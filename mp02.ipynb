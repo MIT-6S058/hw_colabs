{
 "cells": [
  {
   "cell_type": "markdown",
   "id": "f550165d",
   "metadata": {},
   "source": [
    "# Miniproject 2"
   ]
  },
  {
   "cell_type": "markdown",
   "id": "d4a45a30",
   "metadata": {},
   "source": [
    "## Imports and Utilities\n",
    "**Note**: these imports and functions are available in catsoop. You do not need to copy them in."
   ]
  },
  {
   "cell_type": "code",
   "execution_count": null,
   "id": "e3eafc15",
   "metadata": {},
   "outputs": [],
   "source": [
    "import sys\n",
    "import math\n",
    "import numpy as np\n",
    "from collections import namedtuple\n",
    "import matplotlib.pyplot as plt\n",
    "\n",
    "Pose = namedtuple(\"Pose\", [\"x\", \"y\", \"theta\"])\n",
    "Landmark = namedtuple(\"Landmark\", [\"x\", \"y\"])\n",
    "Measurement = namedtuple(\"Measurement\", [\"r\", \"b\"])\n",
    "\n",
    "def eval_gaussian(x, mean=0, var=1):\n",
    "  return 1.0/math.sqrt(2*math.pi*var)*math.exp(-0.5*(x-mean)**2/var)\n",
    "\n",
    "class Simulator:\n",
    "  def __init__(self):\n",
    "    self.robot = Pose(0, 0, 0)\n",
    "\n",
    "    self.motion_noise_covariance = [[1, 0], [0, 1]]\n",
    "    self.sensor_noise_covariance = [[1, 0], [0, np.deg2rad(5)**2]]\n",
    "\n",
    "    self.landmarks = [Landmark(-1, -1), Landmark(-1, -1), Landmark(11, 11), Landmark(-1, 11)]\n",
    "\n",
    "  def reset(self):\n",
    "    self.robot = Pose(0, 0, 0)\n",
    "\n",
    "  def simulate_motion(self, delta_p, delta_theta):\n",
    "    noise = np.random.multivariate_normal([0, 0], self.motion_noise_covariance)\n",
    "    x = self.robot.x + math.cos(self.robot.theta)*(delta_p + noise[0])\n",
    "    y = self.robot.y + math.sin(self.robot.theta)*(delta_p + noise[0])\n",
    "    theta = self.robot.theta + delta_theta + noise[1]\n",
    "    self.robot = Pose(x, y, theta)\n",
    "\n",
    "  def simulate_sensing(self):\n",
    "    measurements = []\n",
    "    for landmark in self.landmarks:\n",
    "      noise = np.random.multivariate_normal([0, 0], self.sensor_noise_covariance)\n",
    "\n",
    "      r = math.hypot(landmark[0]-self.robot.x, landmark[1]-self.robot.y) + noise[0]\n",
    "      b = math.atan2(landmark[1]-self.robot.y, landmark[0]-self.robot.x) + noise[1]\n",
    "\n",
    "      measurements.append(Measurement(r, b))\n",
    "\n",
    "    return measurements\n",
    "\n",
    "  def stringify(self):\n",
    "    # For CAT-SOOP internal use only. Please ignore.\n",
    "    # TODO (Jiayuan):: actually stringify it...\n",
    "    return 'Simulator()'\n",
    "\n",
    "\n",
    "def drive_in_a_square(simulator):\n",
    "  poses = []\n",
    "  poses.append(simulator.robot)\n",
    "  for sides in range(4):\n",
    "    for i in range(100):\n",
    "      simulator.simulate_motion(.1, 0)\n",
    "      poses.append(simulator.robot)\n",
    "    simulator.simulate_motion(0, np.pi/2)\n",
    "    poses.append(simulator.robot)\n",
    "\n",
    "  return np.array(poses)\n",
    "\n",
    "def press(event):\n",
    "  if event.key == 'q':\n",
    "    sys.exit(0)\n",
    "  plt.close()\n",
    "\n",
    "def draw_samples(samples):\n",
    "  fig, ax = plt.subplots()\n",
    "  ax.axis([-2, 12, -2, 12])\n",
    "  fig.canvas.mpl_connect('key_press_event', press)\n",
    "  ax.plot(samples[:, 0], samples[:, 1], 'g+')\n",
    "  plt.show()\n",
    "\n",
    "def draw_trajectories(true_poses, estimated_poses):\n",
    "  fig, ax = plt.subplots()\n",
    "  ax.axis([-20, 20, -20, 20])\n",
    "  fig.canvas.mpl_connect('key_press_event', press)\n",
    "\n",
    "  ax.plot(true_poses[:, 0], true_poses[:,1], 'b')\n",
    "  ax.plot(estimated_poses[:, 0], estimated_poses[:,1], 'r')\n",
    "  plt.show()\n",
    "\n",
    "\n"
   ]
  },
  {
   "cell_type": "markdown",
   "id": "ad5eccd9",
   "metadata": {},
   "source": [
    "## Problems"
   ]
  },
  {
   "cell_type": "markdown",
   "id": "fdc16922",
   "metadata": {},
   "source": [
    "### Warmup 1\n",
    "Let's make sure we know how to resample a set of\n",
    "weights.\n",
    "\n",
    "Please write a function that takes in a list of samples and associated weights,\n",
    "and re-samples from the list of samples with replacement according the\n",
    "likelihood of each sample given by the list of weights. Please generate 100 samples.\n",
    "\n",
    "This should be an easy question --- you should feel free to use the sampling\n",
    "helper functions in numpy. Specifically, take a look at the function numpy.random.choice.\n",
    "\n",
    "\n",
    "For reference, our solution is **1** lines of code."
   ]
  },
  {
   "cell_type": "code",
   "execution_count": null,
   "id": "2a83dc33",
   "metadata": {},
   "outputs": [],
   "source": [
    "def warmup_1(samples, weights):\n",
    "  raise NotImplementedError(\"Implement me!\")"
   ]
  },
  {
   "cell_type": "markdown",
   "id": "b037c51e",
   "metadata": {},
   "source": [
    "Tests"
   ]
  },
  {
   "cell_type": "code",
   "execution_count": null,
   "id": "06145052",
   "metadata": {},
   "outputs": [],
   "source": [
    "import random; import numpy.random; random.seed(0); numpy.random.seed(0);assert np.allclose(warmup_1(np.array([0, 1, 2, 3, 4, 5, 6, 7, 8, 9], dtype=np.int64), np.array([0.15202805, 0.1142408 , 0.06257778, 0.10789209, 0.08438858, 0.1208018 , 0.05370989, 0.06219593, 0.14362672, 0.09853837], dtype=np.float64)), np.array([5, 7, 5, 5, 3, 6, 4, 8, 9, 3, 8, 5, 5, 9, 0, 0, 0, 8, 8, 8, 9, 8, 4, 8, 0, 5, 0, 9, 5, 3, 1, 8, 4, 5, 0, 5, 5, 5, 9, 6, 3, 4, 7, 0, 6, 6, 1, 0, 2, 3, 5, 4, 9, 0, 1, 1, 6, 1, 4, 1, 1, 0, 6, 0, 1, 3, 8, 0, 8, 0, 9, 4, 9, 5, 7, 0, 2, 0, 2, 0, 2, 3, 0, 6, 5, 1, 5, 0, 5, 9, 2, 6, 0, 7, 2, 1, 5, 0, 8, 0], dtype=np.int64), atol=1e-6)\n",
    "print('Tests passed.')"
   ]
  },
  {
   "cell_type": "markdown",
   "id": "5778080f",
   "metadata": {},
   "source": [
    "### Warmup 2\n",
    "We are going to be sampling from Gaussian\n",
    "systems in this miniproject. Let us check that we know how to sample from a\n",
    "multi-variate Gaussian.\n",
    "\n",
    "Please write a function that takes in a mean vector, a covariance matrix and a\n",
    "integer number of samples and returns a list of the requested number of\n",
    "samples drawn from a Gaussian with the given mean and covariance.\n",
    "\n",
    "This should be an easy question --- you should feel free to use the sampling\n",
    "helper functions in numpy. Specifically, take a look at the function numpy.random.multivariate_normal.\n",
    "\n",
    "\n",
    "For reference, our solution is **2** lines of code."
   ]
  },
  {
   "cell_type": "code",
   "execution_count": null,
   "id": "38ae40c2",
   "metadata": {},
   "outputs": [],
   "source": [
    "def warmup_2(mean, covariance, num_samples):\n",
    "  \"\"\"Sample from a multi-variate Gaussian distribution.\n",
    "\n",
    "  Args:\n",
    "    mean: a vector in numpy.\n",
    "    covariance: a matrix in numpy.\n",
    "    num_samples: an integer.\n",
    "\n",
    "  Returns:\n",
    "    sample: a numpy vector with length num_samples.\n",
    "  \"\"\"\n",
    "  raise NotImplementedError(\"Implement me!\")"
   ]
  },
  {
   "cell_type": "markdown",
   "id": "0af5af11",
   "metadata": {},
   "source": [
    "Tests"
   ]
  },
  {
   "cell_type": "code",
   "execution_count": null,
   "id": "1ff23851",
   "metadata": {},
   "outputs": [],
   "source": [
    "import random; import numpy.random; random.seed(0); numpy.random.seed(0);assert np.allclose(warmup_2(np.array([ 0.35563307, -0.45998405,  0.47038804], dtype=np.float64), np.array([[2.18405112, 1.00414281, 1.49286069],  [1.00414281, 0.58927147, 0.64943064],  [1.49286069, 0.64943064, 1.09813033]], dtype=np.float64), 5), np.array([[-2.35284352, -1.74151879, -1.13022555],  [-2.79906741, -2.68743248, -1.56968391],  [-1.03394876, -1.07404052, -0.54291808],  [-0.41991666, -0.6895003 ,  0.26060185],  [-0.81622825, -0.99467384, -0.2275568 ]], dtype=np.float64), atol=1e-6)\n",
    "print('Tests passed.')"
   ]
  },
  {
   "cell_type": "markdown",
   "id": "c9272ae5",
   "metadata": {},
   "source": [
    "### Sampling Question 1\n",
    "Let us now start by building a motion model for a\n",
    "quasi-holonomic ground robot.\n",
    "\n",
    "A common motion model for such a robot assumes that the robot has a pose given\n",
    "by $[x_t, y_t, \\theta_t]$ at time $t$. The robot takes a command $[\\Delta p_t,\n",
    "\\Delta \\theta_t]$ which modifies the robot's pose accoding to the following:\n",
    "\n",
    "$$\n",
    "\\begin{bmatrix} x_{t+1} \\\\ y_{t+1} \\\\ \\theta_{t+1} \\end{bmatrix} =\n",
    "\\begin{bmatrix} x_t + \\cos(\\theta_t) (\\Delta p_t + \\omega_t) \\\\\n",
    "y_t + \\sin(\\theta_t)(\\Delta p_t + \\omega_t) \\\\\n",
    "\\theta_t + \\Delta \\theta_t + \\nu_t\n",
    "\\end{bmatrix}\n",
    "$$\n",
    "\n",
    "where $[\\omega_t, \\nu_t]$ is Gaussian error injected at each time\n",
    "step, distributed as $\\omega_t \\sim \\mathcal{N}(0, \\sigma^2_p)$, and\n",
    "$\\nu_t \\sim \\mathcal{N}(0, \\sigma^2_\\theta)$. The units of $\\Delta  p_t$ is in\n",
    "metres and $\\Delta \\theta_t$ in radians.\n",
    "\n",
    "Let us assume that the robot's pose at each time step is a random variable\n",
    "given as a set of samples.\n",
    "\n",
    "Please implement a function that takes in a set of sampled poses\n",
    "drawn from prior pose random variable $\\mathbf{X}_t$\n",
    "and a control $[\\Delta p_t, \\Delta \\theta_t]$ and returns a set\n",
    "of samples drawn from the posterior $X_{t+1}$.\n",
    "\n",
    "At each step, please use numpy.random.multivariate_normal to sample the noise.\n",
    "\n",
    "\n",
    "For reference, our solution is **13** lines of code."
   ]
  },
  {
   "cell_type": "code",
   "execution_count": null,
   "id": "22b34e15",
   "metadata": {},
   "outputs": [],
   "source": [
    "def motion_model(samples, delta_p, delta_theta, simulator):\n",
    "  \"\"\"A motion model.\n",
    "\n",
    "  Args:\n",
    "    samples: a list of samples\n",
    "    delta_p: translation command\n",
    "    delta_theta: rotation command\n",
    "    simulator: a Simulator object\n",
    "\n",
    "  Returns:\n",
    "    a list of new samples by applying the motion model\n",
    "  \"\"\"\n",
    "  raise NotImplementedError(\"Implement me!\")"
   ]
  },
  {
   "cell_type": "markdown",
   "id": "af923a69",
   "metadata": {},
   "source": [
    "Tests"
   ]
  },
  {
   "cell_type": "code",
   "execution_count": null,
   "id": "9da20be1",
   "metadata": {},
   "outputs": [],
   "source": [
    "import random; import numpy.random; random.seed(0); numpy.random.seed(0);assert np.allclose(motion_model(np.array([[ 0.14940791,  0.03336743, -0.01790344],  [-0.08540957,  0.03130677, -0.22279039],  [ 0.08644362,  0.06536186, -0.06476612],  [-0.14543657,  0.22697546,  0.00399318],  [ 0.15327792, -0.01871839,  0.12822574],  [ 0.03781625,  0.01549474, -0.07747392],  [-0.03479121, -0.19807965,  0.01364402],  [ 0.12023798,  0.12302907, -0.03380064],  [-0.1048553 , -0.03023028, -0.12391994],  [ 0.19507754, -0.17062702, -0.04447554]], dtype=np.float64), 1, 0, Simulator()), np.array([[ 2.91301728, -0.01611596,  0.38225377],  [ 1.84442332, -0.40589916,  2.01810281],  [ 2.94798951, -0.12022892, -1.042044  ],  [ 1.8046363 ,  0.2347625 , -0.14736402],  [ 1.0426968 ,  0.09595719,  0.53882424],  [ 1.17842815, -0.07305016,  1.37679959],  [ 1.7260826 , -0.17405276,  0.13531904],  [ 1.5632765 ,  0.07423486,  0.29987369],  [ 2.37009854, -0.33850601, -0.32907821],  [ 1.50684678, -0.22900717, -0.89857128]], dtype=np.float64), atol=1e-6)\n",
    "print('Tests passed.')"
   ]
  },
  {
   "cell_type": "markdown",
   "id": "7bf98779",
   "metadata": {},
   "source": [
    "### Sampling Question 2\n",
    "Let us now add in a measurement model. Let us assume that\n",
    "there are four landmarks located at locations (-1, -1), (11, -1), (11, 11) and\n",
    "(-1, 11). The robot is equipped with a sensor that can measure the range and\n",
    "bearing [r, b] from the robot's location to each of these landmarks. Each of\n",
    "these measurements is corrupted with noise $[q_r, q_b]$ distributed according\n",
    "to $q_r \\sim \\mathcal{N}(0, \\sigma^2_r)$ and $q_b \\sim \\mathcal{N}(0,\n",
    "\\sigma^2_b)$.\n",
    "\n",
    "Given a set of measurements, we can use this model to compute the importance\n",
    "weights of a set of samples of the robot pose.\n",
    "\n",
    "Please implement a function that takes a set of samples and measurements and\n",
    "returns the importance weights of the samples.\n",
    "\n",
    "\n",
    "\n",
    "For reference, our solution is **18** lines of code."
   ]
  },
  {
   "cell_type": "code",
   "execution_count": null,
   "id": "3c8d8c62",
   "metadata": {},
   "outputs": [],
   "source": [
    "def compute_weights(samples, measurement, simulator):\n",
    "  \"\"\"Compute the importance weights of the samples.\n",
    "\n",
    "  Args:\n",
    "    a list of samples\n",
    "    a measurement vector\n",
    "    a simulator object\n",
    "\n",
    "  Returns:\n",
    "    a list of importance weights\n",
    "  \"\"\"\n",
    "  raise NotImplementedError(\"Implement me!\")"
   ]
  },
  {
   "cell_type": "markdown",
   "id": "b6590a64",
   "metadata": {},
   "source": [
    "Tests"
   ]
  },
  {
   "cell_type": "code",
   "execution_count": null,
   "id": "7447aede",
   "metadata": {},
   "outputs": [],
   "source": [
    "import random; import numpy.random; random.seed(0); numpy.random.seed(0);assert np.allclose(compute_weights(np.array([[ 0.06536186, -0.25529898,  0.07543629],  [ 0.22697546, -0.0742165 , -0.12691735],  [-0.01871839,  0.00457585,  0.13376022],  [ 0.01549474,  0.14693588,  0.03300091],  [-0.19807965, -0.08877857, -0.03036106],  [ 0.12302907,  0.0156349 ,  0.10492744],  [-0.03023028, -0.03873268, -0.09150351],  [-0.17062702, -0.14200179,  0.17023727],  [-0.04380743, -0.05096522, -0.10932702],  [-0.16138978,  0.07774904, -0.01856509]], dtype=np.float64), [Measurement(r=0.5187470011794195, b=-2.3224308778331726), Measurement(r=0.9034084248042221, b=-2.4592240845320847), Measurement(r=15.528166957765391, b=0.8227771705573576), Measurement(r=11.111878239570428, b=1.6878518665472155)], Simulator()), np.array([0.01711671, 0.04172281, 0.14431346, 0.04618495, 0.05960219, 0.16749519, 0.17919444, 0.15658841, 0.18128191, 0.00649993], dtype=np.float64), atol=1e-6)\n",
    "print('Tests passed.')"
   ]
  },
  {
   "cell_type": "markdown",
   "id": "b495f686",
   "metadata": {},
   "source": [
    "### Main Question\n",
    "Now let's put everything together. Please write a method\n",
    "localization() that does the following:\n",
    "\n",
    "  * Creates a simulator.\n",
    "  * Initialize a set of samples drawn from a Gaussian distribution with mean\n",
    "equal to the robot starting position, and a diagonal covariance matrix equal\n",
    "to diag(1, 1, np.deg2rad(5))^2.\n",
    "  * Drive the robot along the same pattern as in the drive_in_a_square method,\n",
    "but on each step, after the command motion do the following:\n",
    "  * use the motion_model method to update the sample between each simulated\n",
    "motion,\n",
    "  * use compute_weights to compute the sample weights from the\n",
    "measurements,\n",
    "  * resample a new set of samples,\n",
    "  * blur the samples by applying noise drawn from a zero-mean Gaussian with\n",
    "covariance equal to `diag(.01, .01, np.deg2rad(1))^2`.\n",
    "\n",
    "\n",
    "For reference, our solution is **58** lines of code."
   ]
  },
  {
   "cell_type": "code",
   "execution_count": null,
   "id": "12bfafa4",
   "metadata": {},
   "outputs": [],
   "source": [
    "def localization(simulator):\n",
    "  \"\"\"Main function for robot localization.\n",
    "\n",
    "  Args:\n",
    "    simulator: a Simulator object.\n",
    "\n",
    "  Returns:\n",
    "    true_poses\n",
    "    estimated_poses\n",
    "  \"\"\"\n",
    "  raise NotImplementedError(\"Implement me!\")"
   ]
  },
  {
   "cell_type": "markdown",
   "id": "4f6d274c",
   "metadata": {},
   "source": [
    "Tests"
   ]
  },
  {
   "cell_type": "code",
   "execution_count": null,
   "id": "51c9f65b",
   "metadata": {},
   "outputs": [],
   "source": [
    "import random; import numpy.random; random.seed(0); numpy.random.seed(0);ret = localization(Simulator())\n",
    "target = (np.array([0., 0., 0., 0., 0., 0., 0., 0., 0., 0.], dtype=np.float64), np.array([0., 0., 0., 0., 0., 0., 0., 0., 0., 0.], dtype=np.float64))\n",
    "assert all((np.allclose(x, y, atol=1e-6) for x, y in zip(ret, target)))\n",
    "print('Tests passed.')"
   ]
  }
 ],
 "metadata": {
  "colab": {
   "collapsed_sections": [],
   "name": "mp02.ipynb",
   "provenance": []
  },
  "kernelspec": {
   "display_name": "Python 3",
   "name": "python3"
  },
  "language_info": {
   "name": "python"
  }
 },
 "nbformat": 4,
 "nbformat_minor": 5
}
