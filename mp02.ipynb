{
 "cells": [
  {
   "cell_type": "markdown",
   "id": "9ae38f3f",
   "metadata": {},
   "source": [
    "# Miniproject 2"
   ]
  },
  {
   "cell_type": "markdown",
   "id": "4aec05ad",
   "metadata": {},
   "source": [
    "## Imports and Utilities\n",
    "**Note**: these imports and functions are available in catsoop. You do not need to copy them in."
   ]
  },
  {
   "cell_type": "code",
   "execution_count": null,
   "id": "3fe8c2d7",
   "metadata": {},
   "outputs": [],
   "source": [
    "import sys\n",
    "import math\n",
    "import numpy as np\n",
    "from collections import namedtuple\n",
    "\n",
    "Pose = namedtuple(\"Pose\", [\"x\", \"y\", \"theta\"])\n",
    "Landmark = namedtuple(\"Landmark\", [\"x\", \"y\"])\n",
    "Measurement = namedtuple(\"Measurement\", [\"r\", \"b\"])\n",
    "\n",
    "def eval_gaussian(x, mean=0, var=1):\n",
    "  \"\"\"Return the Gaussian pdf\"\"\"\n",
    "  return 1.0/math.sqrt(2*math.pi*var)*math.exp(-0.5*(x-mean)**2/var)\n",
    "\n",
    "class Simulator:\n",
    "  def __init__(self):\n",
    "    self.robot = Pose(0, 0, 0)\n",
    "\n",
    "    self.motion_noise_covariance = [[1, 0], [0, 1]]\n",
    "    self.sensor_noise_covariance = [[1, 0], [0, np.deg2rad(5)**2]]\n",
    "\n",
    "    self.landmarks = [Landmark(-1, -1), Landmark(-1, -1), Landmark(11, 11), Landmark(-1, 11)]\n",
    "\n",
    "  def reset(self):\n",
    "    self.robot = Pose(0, 0, 0)\n",
    "\n",
    "  def simulate_motion(self, delta_p, delta_theta):\n",
    "    noise = np.random.multivariate_normal([0, 0], self.motion_noise_covariance)\n",
    "    x = self.robot.x + math.cos(self.robot.theta)*(delta_p + noise[0])\n",
    "    y = self.robot.y + math.sin(self.robot.theta)*(delta_p + noise[0])\n",
    "    theta = self.robot.theta + delta_theta + noise[1]\n",
    "    self.robot = Pose(x, y, theta)\n",
    "\n",
    "  def simulate_sensing(self):\n",
    "    measurements = []\n",
    "    for landmark in self.landmarks:\n",
    "      noise = np.random.multivariate_normal([0, 0], self.sensor_noise_covariance)\n",
    "\n",
    "      r = math.hypot(landmark[0]-self.robot.x, landmark[1]-self.robot.y) + noise[0]\n",
    "      b = math.atan2(landmark[1]-self.robot.y, landmark[0]-self.robot.x) + noise[1]\n",
    "\n",
    "      measurements.append(Measurement(r, b))\n",
    "\n",
    "    return measurements\n",
    "\n",
    "\n",
    "\n",
    "\n",
    "def drive_in_a_square(simulator):\n",
    "  poses = []\n",
    "  poses.append(simulator.robot)\n",
    "  for sides in range(4):\n",
    "    for i in range(100):\n",
    "      simulator.simulate_motion(.1, 0)\n",
    "      poses.append(simulator.robot)\n",
    "    simulator.simulate_motion(0, np.pi/2)\n",
    "    poses.append(simulator.robot)\n",
    "\n",
    "  return np.array(poses)\n",
    "\n",
    "def press(event):\n",
    "  import matplotlib.pyplot as plt\n",
    "  if event.key == 'q':\n",
    "    sys.exit(0)\n",
    "  plt.close()\n",
    "\n",
    "def plot_samples(samples):\n",
    "  import matplotlib.pyplot as plt\n",
    "  fig, ax = plt.subplots()\n",
    "  ax.axis([-2, 12, -2, 12])\n",
    "  fig.canvas.mpl_connect('key_press_event', press)\n",
    "  ax.plot(samples[:, 0], samples[:, 1], 'g+')\n",
    "  plt.show()\n",
    "\n",
    "def plot_trajectories(true_poses, estimated_poses):\n",
    "  import matplotlib.pyplot as plt\n",
    "  fig, ax = plt.subplots()\n",
    "  ax.axis([-20, 20, -20, 20])\n",
    "  fig.canvas.mpl_connect('key_press_event', press)\n",
    "\n",
    "  ax.plot(true_poses[:, 0], true_poses[:,1], 'b')\n",
    "  ax.plot(estimated_poses[:, 0], estimated_poses[:,1], 'r')\n",
    "  plt.show()\n",
    "\n",
    "\n"
   ]
  },
  {
   "cell_type": "markdown",
   "id": "8be884e3",
   "metadata": {},
   "source": [
    "## Problems"
   ]
  },
  {
   "cell_type": "markdown",
   "id": "3664deb7",
   "metadata": {},
   "source": [
    "### Warmup 1\n",
    "Let's make sure we know how to resample a set of\n",
    "weights.\n",
    "\n",
    "Please write a function that takes in a list of samples and associated weights,\n",
    "and re-samples from the list of samples with replacement according the\n",
    "likelihood of each sample given by the list of weights. Please generate 100 samples.\n",
    "\n",
    "This should be an easy question --- you should feel free to use the sampling\n",
    "helper functions in numpy. Specifically, take a look at the function numpy.random.choice.\n",
    "\n",
    "\n",
    "For reference, our solution is **1** lines of code."
   ]
  },
  {
   "cell_type": "code",
   "execution_count": null,
   "id": "ec1ae15f",
   "metadata": {},
   "outputs": [],
   "source": [
    "def warmup_1(samples, weights):\n",
    "raise NotImplementedError(\"Implement me!\")"
   ]
  },
  {
   "cell_type": "markdown",
   "id": "3f5bb33a",
   "metadata": {},
   "source": [
    "Tests"
   ]
  },
  {
   "cell_type": "code",
   "execution_count": null,
   "id": "e332f9b5",
   "metadata": {},
   "outputs": [],
   "source": [
    "import random; import numpy.random; random.seed(0); numpy.random.seed(0);\n",
    "assert np.allclose(warmup_1(np.array([0, 1, 2, 3, 4, 5, 6, 7, 8, 9], dtype=np.int64), np.array([0.00098125, 0.1012086 , 0.05777333, 0.11680514, 0.08591397, 0.11155254, 0.08240431, 0.1491899 , 0.17830923, 0.11586173], dtype=np.float64)), np.array([6, 8, 7, 6, 5, 7, 5, 9, 9, 5, 8, 6, 7, 9, 1, 1, 1, 8, 8, 8, 9, 8, 5, 8, 2, 7, 2, 9, 6, 5, 3, 8, 5, 7, 1, 7, 7, 7, 9, 7, 4, 5, 7, 1, 7, 7, 3, 2, 4, 5, 7, 5, 9, 1, 3, 3, 7, 3, 5, 3, 2, 2, 7, 2, 3, 5, 8, 1, 8, 1, 9, 5, 9, 7, 8, 1, 4, 2, 4, 2, 4, 5, 1, 7, 7, 3, 6, 1, 7, 9, 4, 7, 2, 8, 4, 3, 7, 1, 8, 1], dtype=np.int64), atol=1e-6)\n",
    "print('Tests passed.')"
   ]
  },
  {
   "cell_type": "markdown",
   "id": "afc5f43c",
   "metadata": {},
   "source": [
    "### Warmup 2\n",
    "We are going to be sampling from Gaussian\n",
    "systems in this miniproject. Let us check that we know how to sample from a\n",
    "multi-variate Gaussian.\n",
    "\n",
    "Please write a function that takes in a mean vector, a covariance matrix and a\n",
    "integer number of samples and returns a list of the requested number of\n",
    "samples drawn from a Gaussian with the given mean and covariance.\n",
    "\n",
    "This should be an easy question --- you should feel free to use the sampling\n",
    "helper functions in numpy. Specifically, take a look at the function numpy.random.multivariate_normal.\n",
    "\n",
    "\n",
    "For reference, our solution is **2** lines of code."
   ]
  },
  {
   "cell_type": "code",
   "execution_count": null,
   "id": "fe3cda8a",
   "metadata": {},
   "outputs": [],
   "source": [
    "def warmup_2(mean, covariance, num_samples):\n",
    "  \"\"\"Sample from a multi-variate Gaussian distribution.\n",
    "\n",
    "  Args:\n",
    "    mean: a vector in numpy.\n",
    "    covariance: a matrix in numpy.\n",
    "    num_samples: an integer.\n",
    "\n",
    "  Returns:\n",
    "    sample: a numpy vector with length num_samples.\n",
    "  \"\"\"\n",
    "raise NotImplementedError(\"Implement me!\")"
   ]
  },
  {
   "cell_type": "markdown",
   "id": "f9624ca4",
   "metadata": {},
   "source": [
    "Tests"
   ]
  },
  {
   "cell_type": "code",
   "execution_count": null,
   "id": "3e5340cf",
   "metadata": {},
   "outputs": [],
   "source": [
    "import random; import numpy.random; random.seed(0); numpy.random.seed(0);\n",
    "assert np.allclose(warmup_2(np.array([ 0.35563307, -0.45998405,  0.47038804], dtype=np.float64), np.array([[2.18405112, 1.00414281, 1.49286069],  [1.00414281, 0.58927147, 0.64943064],  [1.49286069, 0.64943064, 1.09813033]], dtype=np.float64), 5), np.array([[-2.35284352, -1.74151879, -1.13022555],  [-2.79906741, -2.68743248, -1.56968391],  [-1.03394876, -1.07404052, -0.54291808],  [-0.41991666, -0.6895003 ,  0.26060185],  [-0.81622825, -0.99467384, -0.2275568 ]], dtype=np.float64), atol=1e-6)\n",
    "print('Tests passed.')"
   ]
  },
  {
   "cell_type": "markdown",
   "id": "d073c705",
   "metadata": {},
   "source": [
    "### Sampling Question 1\n",
    "Let us now start by building a motion model for a\n",
    "quasi-holonomic ground robot.\n",
    "\n",
    "A common motion model for such a robot assumes that the robot has a pose given\n",
    "by $[x_t, y_t, \\theta_t]$ at time $t$. The robot takes a command $[\\Delta p_t,\n",
    "\\Delta \\theta_t]$ which modifies the robot's pose accoding to the following:\n",
    "\n",
    "$$\n",
    "\\begin{bmatrix} x_{t+1} \\\\ y_{t+1} \\\\ \\theta_{t+1} \\end{bmatrix} =\n",
    "\\begin{bmatrix} x_t + \\cos(\\theta_t) (\\Delta p_t + \\omega_t) \\\\\n",
    "y_t + \\sin(\\theta_t)(\\Delta p_t + \\omega_t) \\\\\n",
    "\\theta_t + \\Delta \\theta_t + \\nu_t\n",
    "\\end{bmatrix}\n",
    "$$\n",
    "\n",
    "where $[\\omega_t, \\nu_t]$ is Gaussian error injected at each time\n",
    "step, distributed as $\\omega_t \\sim \\mathcal{N}(0, \\sigma^2_p)$, and\n",
    "$\\nu_t \\sim \\mathcal{N}(0, \\sigma^2_\\theta)$. The units of $\\Delta  p_t$ is in\n",
    "metres and $\\Delta \\theta_t$ in radians.\n",
    "\n",
    "Let us assume that the robot's pose at each time step is a random variable\n",
    "given as a set of samples.\n",
    "\n",
    "Please implement a function that takes in a set of sampled poses\n",
    "drawn from prior pose random variable $\\mathbf{X}_t$\n",
    "and a control $[\\Delta p_t, \\Delta \\theta_t]$ and returns a set\n",
    "of samples drawn from the posterior $X_{t+1}$.\n",
    "\n",
    "At each step, please use numpy.random.multivariate_normal to sample the noise.\n",
    "\n",
    "\n",
    "For reference, our solution is **8** lines of code."
   ]
  },
  {
   "cell_type": "code",
   "execution_count": null,
   "id": "a38d3c30",
   "metadata": {},
   "outputs": [],
   "source": [
    "def motion_model(samples, delta_p, delta_theta, simulator):\n",
    "  \"\"\"A motion model (one-step forwarding).\n",
    "\n",
    "  Args:\n",
    "    samples: a list of samples.\n",
    "    delta_p: translation command.\n",
    "    delta_theta: rotation command.\n",
    "    simulator: a Simulator object.\n",
    "\n",
    "  Returns:\n",
    "    a list of new samples by applying the motion model, as a single numpy array.\n",
    "  \"\"\"\n",
    "new_samples = list()\n",
    "for sample in samples:\n",
    "    noise = np.random.multivariate_normal([0, 0], simulator.motion_noise_covariance)\n",
    "return np.array(new_samples)"
   ]
  },
  {
   "cell_type": "markdown",
   "id": "97eeefc7",
   "metadata": {},
   "source": [
    "Tests"
   ]
  },
  {
   "cell_type": "code",
   "execution_count": null,
   "id": "5eaea163",
   "metadata": {},
   "outputs": [],
   "source": [
    "import random; import numpy.random; random.seed(0); numpy.random.seed(0);\n",
    "assert np.allclose(motion_model(np.array([[ 0.14940791,  0.03336743, -0.01790344],  [-0.08540957,  0.03130677, -0.22279039],  [ 0.08644362,  0.06536186, -0.06476612],  [-0.14543657,  0.22697546,  0.00399318],  [ 0.15327792, -0.01871839,  0.12822574],  [ 0.03781625,  0.01549474, -0.07747392],  [-0.03479121, -0.19807965,  0.01364402],  [ 0.12023798,  0.12302907, -0.03380064],  [-0.1048553 , -0.03023028, -0.12391994],  [ 0.19507754, -0.17062702, -0.04447554]], dtype=np.float64), 1, 0, Simulator()), np.array([[ 2.91301728, -0.01611596,  0.38225377],  [ 1.84442332, -0.40589916,  2.01810281],  [ 2.94798951, -0.12022892, -1.042044  ],  [ 1.8046363 ,  0.2347625 , -0.14736402],  [ 1.0426968 ,  0.09595719,  0.53882424],  [ 1.17842815, -0.07305016,  1.37679959],  [ 1.7260826 , -0.17405276,  0.13531904],  [ 1.5632765 ,  0.07423486,  0.29987369],  [ 2.37009854, -0.33850601, -0.32907821],  [ 1.50684678, -0.22900717, -0.89857128]], dtype=np.float64), atol=1e-6)\n",
    "print('Tests passed.')"
   ]
  },
  {
   "cell_type": "markdown",
   "id": "e346bef2",
   "metadata": {},
   "source": [
    "### Sampling Question 2\n",
    "Let us now add in a measurement model. Let us assume that\n",
    "there are four landmarks located at locations (-1, -1), (11, -1), (11, 11) and\n",
    "(-1, 11). The robot is equipped with a sensor that can measure the range and\n",
    "bearing [r, b] from the robot's location to each of these landmarks. Each of\n",
    "these measurements is corrupted with noise $[q_r, q_b]$ distributed according\n",
    "to $q_r \\sim \\mathcal{N}(0, \\sigma^2_r)$ and $q_b \\sim \\mathcal{N}(0,\n",
    "\\sigma^2_b)$.\n",
    "\n",
    "Given a set of measurements, we can use this model to compute the importance\n",
    "weights of a set of samples of the robot pose.\n",
    "\n",
    "Please implement a function that takes a set of samples and measurements and\n",
    "returns the importance weights of the samples.\n",
    "\n",
    "\n",
    "For reference, our solution is **16** lines of code."
   ]
  },
  {
   "cell_type": "code",
   "execution_count": null,
   "id": "13391e7c",
   "metadata": {},
   "outputs": [],
   "source": [
    "def compute_weights(samples, measurement, simulator):\n",
    "  \"\"\"Compute the importance weights of the samples.\n",
    "\n",
    "  Args:\n",
    "    samples: a list of samples.\n",
    "    measurement: a measurement vector\n",
    "    simulator: a Simulator object\n",
    "\n",
    "  Returns:\n",
    "    a list of importance weights, as a single numpy array.\n",
    "  \"\"\"\n",
    "raise NotImplementedError(\"Implement me!\")"
   ]
  },
  {
   "cell_type": "markdown",
   "id": "99f25c55",
   "metadata": {},
   "source": [
    "Tests"
   ]
  },
  {
   "cell_type": "code",
   "execution_count": null,
   "id": "709e3fb6",
   "metadata": {},
   "outputs": [],
   "source": [
    "import random; import numpy.random; random.seed(0); numpy.random.seed(0);\n",
    "assert np.allclose(compute_weights(np.array([[ 0.06536186, -0.25529898,  0.07543629],  [ 0.22697546, -0.0742165 , -0.12691735],  [-0.01871839,  0.00457585,  0.13376022],  [ 0.01549474,  0.14693588,  0.03300091],  [-0.19807965, -0.08877857, -0.03036106],  [ 0.12302907,  0.0156349 ,  0.10492744],  [-0.03023028, -0.03873268, -0.09150351],  [-0.17062702, -0.14200179,  0.17023727],  [-0.04380743, -0.05096522, -0.10932702],  [-0.16138978,  0.07774904, -0.01856509]], dtype=np.float64), [Measurement(r=0.5187470011794195, b=-2.3224308778331726), Measurement(r=0.9034084248042221, b=-2.4592240845320847), Measurement(r=15.528166957765391, b=0.8227771705573576), Measurement(r=11.111878239570428, b=1.6878518665472155)], Simulator()), np.array([0.01711671, 0.04172281, 0.14431346, 0.04618495, 0.05960219, 0.16749519, 0.17919444, 0.15658841, 0.18128191, 0.00649993], dtype=np.float64), atol=1e-6)\n",
    "print('Tests passed.')"
   ]
  },
  {
   "cell_type": "markdown",
   "id": "79dc3b4e",
   "metadata": {},
   "source": [
    "### Main Question\n",
    "Now let's put everything together. Please write a method\n",
    "localization() that does the following:\n",
    "\n",
    "  * Initialize a set of samples drawn from a Gaussian distribution with mean\n",
    "equal to the robot starting position, and a diagonal covariance matrix equal\n",
    "to diag(1, 1, np.deg2rad(5))^2.\n",
    "  * Drive the robot along the same pattern as in the drive_in_a_square method,\n",
    "but on each step, after the command motion do the following:\n",
    "  * use the motion_model method to update the sample between each simulated\n",
    "motion,\n",
    "  * use compute_weights to compute the sample weights from the\n",
    "measurements,\n",
    "  * resample a new set of samples,\n",
    "  * blur the samples by applying noise drawn from a zero-mean Gaussian with\n",
    "covariance equal to `diag(.001, .001, np.deg2rad(1))^2`.\n",
    "\n",
    "\n",
    "For reference, our solution is **35** lines of code.\n",
    "\n",
    "In addition to all of the utilities defined at the top of the colab notebook, the following functions are available in this question environment: `compute_weights`, `motion_model`. You may not need to use all of them."
   ]
  },
  {
   "cell_type": "code",
   "execution_count": null,
   "id": "698fc00b",
   "metadata": {},
   "outputs": [],
   "source": [
    "def localization(simulator):\n",
    "  \"\"\"Main function for robot localization.\n",
    "\n",
    "  Args:\n",
    "    simulator: a Simulator object.\n",
    "\n",
    "  Returns:\n",
    "    true_poses\n",
    "    estimated_poses\n",
    "  \"\"\"\n",
    "num_samples = 10\n",
    "mean = simulator.robot\n",
    "covariance = [[0.1, 0, 0], [0, 0.1, 0], [0, 0, (np.deg2rad(5) ** 2)]]\n",
    "samples = np.random.multivariate_normal(mean, covariance, num_samples)\n",
    "true_poses = []\n",
    "true_poses.append(simulator.robot)\n",
    "estimated_poses = []\n",
    "estimated_poses.append(mean)\n",
    "def resample(samples, weights):\n",
    "    new_samples = np.zeros_like(samples)\n",
    "    return new_samples\n",
    "for sides in range(4):\n",
    "    for i in range(10):\n",
    "        (delta_p, delta_theta) = (1, 0)\n",
    "    (delta_p, delta_theta) = (0, np.deg2rad(90))\n",
    "return (np.array(true_poses), np.array(estimated_poses))"
   ]
  },
  {
   "cell_type": "markdown",
   "id": "0025ae65",
   "metadata": {},
   "source": [
    "Tests"
   ]
  },
  {
   "cell_type": "code",
   "execution_count": null,
   "id": "804cfb04",
   "metadata": {},
   "outputs": [],
   "source": [
    "import random; import numpy.random; random.seed(0); numpy.random.seed(0);\n",
    "ret = localization(Simulator())\n",
    "target = (np.array([[ 0.        ,  0.        ,  0.        ],  [ 0.25494743,  0.        ,  0.37816252],  [ 2.09797787,  0.73220589, -0.96959654],  [ 1.4613952 ,  1.66030481, -0.12523357],  [ 0.14770364,  1.82568859, -0.61855345],  [-0.0962629 ,  1.99932628, -0.24849756],  [-0.18413179,  2.02162232, -0.64334707],  [ 0.55322194,  1.46878446, -0.63805443],  [ 0.35445569,  1.61617443, -1.21932291],  [ 0.54511257,  1.09624717, -3.04906332],  [-0.37127229,  1.01121186, -1.68911477],  [-0.48181276,  0.08131326, -0.15341362],  [-0.74375495,  0.12181703, -1.94474117],  [-1.13554208, -0.87659965,  0.18912707],  [-0.02526097, -0.66407544, -1.85819654],  [ 0.04889197, -0.4132059 , -0.7936114 ],  [ 0.00960379, -0.373267  ,  0.25548179],  [ 1.38773021, -0.01331504,  0.08328099],  [ 1.73751182,  0.01588265,  1.13803892],  [ 1.63657132, -0.20262094, -0.12513399],  [ 1.41339514, -0.17454733, -0.83644035],  [ 1.75789252, -0.55613805, -1.34367482],  [ 2.15448367, -2.27217239,  0.98121717],  [ 2.2253805 , -2.16618954,  3.21323356],  [ 1.88505177, -2.1906128 ,  4.34101719],  [ 1.73295619, -2.58116007,  4.64828197],  [ 1.78876609, -1.71177892,  6.07459884],  [ 2.68684617, -1.90187117,  5.79568456],  [ 3.41102817, -2.28581952,  5.54726525],  [ 4.12192911, -2.92963681,  4.73763868],  [ 4.12241356, -2.94881908,  4.03377964],  [ 3.74465719, -3.41728794,  3.97768017],  [ 3.86464129, -3.28447893,  4.50751395],  [ 3.71127123, -4.02257858,  5.19012207],  [ 3.95013141, -4.48393649,  6.11455609],  [ 2.52830103, -4.24187558,  6.97670415],  [ 3.0923896 , -3.77296615,  6.36788903],  [ 2.77828838, -3.7996355 ,  5.69422486],  [ 4.68131737, -5.07095612,  5.47445187],  [ 4.52182413, -4.90383998,  5.9247407 ],  [ 5.23539919, -5.17116527,  5.58386629],  [ 5.43375365, -5.33800615,  4.5957696 ],  [ 5.55010547, -4.34482748,  4.19141738],  [ 4.84049773, -5.58139532,  3.84943511],  [ 5.91239398, -4.66408357,  5.58514416]], dtype=np.float64), np.array([[  0.        ,   0.        ,   0.        ],  [  0.19058789,   0.08076551,   0.13015944],  [  1.73884213,   0.77528172,   1.13724432],  [  2.32272768,   1.53897586,  -0.20335719],  [  0.91254162,   2.07992579,   0.33041101],  [ -0.10249755,   1.77076375,  -0.15929873],  [ -0.053636  ,   1.7357245 ,  -1.24775663],  [  0.33362574,   2.15292384,   0.76494676],  [ -0.06330826,   1.0094867 ,  -0.41082755],  [  0.42589094,   0.79559174,  -0.0257862 ],  [ -0.29166286,   0.75716514,  -1.2357107 ],  [ -0.20078089,   0.51236446,  -0.07605858],  [ -0.54218515,   0.51447095,  -0.82622069],  [ -1.45113278,   1.67386395,  -1.31883524],  [ -0.98375982,   0.0144982 ,  -1.5884315 ],  [ -0.94672607,  -0.58853722,  -3.41545344],  [ -0.68729134,  -0.70101432,  -3.73389319],  [ -0.52032134,  -0.79368716,  -5.74997517],  [  0.95875632,   0.06233885,  -5.11169347],  [  0.74297861,  -0.53299447,  -6.46674077],  [  0.34326157,  -0.50194941,  -7.40239332],  [  0.2678123 ,  -0.46473962,  -8.8903894 ],  [ -0.91195431,  -1.16980026,  -6.41626306],  [  0.83093655,  -1.39284578,  -6.69312925],  [  1.86644767,  -1.7932945 ,  -5.37147095],  [  1.98493433,  -2.62941749,  -4.46135281],  [  1.61630803,  -1.30743702,  -5.18185803],  [  1.59268985,  -1.45690111,  -5.5066592 ],  [  2.01038262,  -1.81736801,  -7.06878497],  [  2.87208808,  -2.67657584,  -8.30025262],  [  2.9156086 ,  -2.60625252,  -7.89019499],  [  3.14312724,  -3.12334753,  -8.6267845 ],  [  3.00649234,  -3.2606006 , -10.16542017],  [  3.28547325,  -3.19132734,  -9.12541345],  [  3.83713075,  -3.56883755,  -9.00432044],  [  2.8975788 ,  -4.54553428,  -9.16020851],  [  3.6258195 ,  -4.68640943, -10.57959091],  [  3.10800677,  -3.60614824,  -9.75828815],  [  3.50262302,  -3.71522404, -10.62331535],  [  3.96464251,  -4.26933193,  -9.23618253],  [  4.25193587,  -4.25450217,  -9.33476329],  [  3.71038933,  -4.58405451,  -8.7792178 ],  [  4.58125857,  -4.53201125,  -9.68885746],  [  5.11925005,  -5.17502524, -10.90162278],  [  5.33818285,  -4.44455145,  -9.17833356]], dtype=np.float64))\n",
    "assert all((np.allclose(x, y, atol=1e-6) for x, y in zip(ret, target)))\n",
    "print('Tests passed.')"
   ]
  }
 ],
 "metadata": {
  "colab": {
   "collapsed_sections": [],
   "name": "mp02.ipynb",
   "provenance": []
  },
  "kernelspec": {
   "display_name": "Python 3",
   "name": "python3"
  },
  "language_info": {
   "name": "python"
  }
 },
 "nbformat": 4,
 "nbformat_minor": 5
}
