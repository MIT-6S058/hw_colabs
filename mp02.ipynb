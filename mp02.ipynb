{
 "cells": [
  {
   "cell_type": "markdown",
   "id": "22b56dfb",
   "metadata": {},
   "source": [
    "# Miniproject 2"
   ]
  },
  {
   "cell_type": "markdown",
   "id": "a1d85144",
   "metadata": {},
   "source": [
    "## Imports and Utilities\n",
    "**Note**: these imports and functions are available in catsoop. You do not need to copy them in."
   ]
  },
  {
   "cell_type": "code",
   "execution_count": null,
   "id": "565b436b",
   "metadata": {},
   "outputs": [],
   "source": [
    "import sys\n",
    "import math\n",
    "import numpy as np\n",
    "from collections import namedtuple\n",
    "import matplotlib.pyplot as plt\n",
    "\n",
    "Pose = namedtuple(\"Pose\", [\"x\", \"y\", \"theta\"])\n",
    "Landmark = namedtuple(\"Landmark\", [\"x\", \"y\"])\n",
    "Measurement = namedtuple(\"Measurement\", [\"r\", \"b\"])\n",
    "\n",
    "def eval_gaussian(x, mean=0, var=1):\n",
    "  return 1.0/math.sqrt(2*math.pi*var)*math.exp(-0.5*(x-mean)**2/var)\n",
    "\n",
    "class Simulator:\n",
    "  def __init__(self):\n",
    "    np.random.seed()\n",
    "\n",
    "    self.robot = Pose(0, 0, 0)\n",
    "\n",
    "    self.motion_noise_covariance = [[1, 0], [0, 1]]\n",
    "    self.sensor_noise_covariance = [[1, 0], [0, np.deg2rad(5)**2]]\n",
    "\n",
    "    self.landmarks = [Landmark(-1, -1), Landmark(-1, -1), Landmark(11, 11), Landmark(-1, 11)]\n",
    "\n",
    "\n",
    "  def reset(self):\n",
    "    self.robot = Pose(0, 0, 0)\n",
    "\n",
    "  def simulate_motion(self, delta_p, delta_theta):\n",
    "    noise = np.random.multivariate_normal([0, 0], self.motion_noise_covariance)\n",
    "    x = self.robot.x + math.cos(self.robot.theta)*(delta_p + noise[0])\n",
    "    y = self.robot.y + math.sin(self.robot.theta)*(delta_p + noise[0])\n",
    "    theta = self.robot.theta + delta_theta + noise[1]\n",
    "    self.robot = Pose(x, y, theta)\n",
    "\n",
    "  def simulate_sensing(self):\n",
    "    measurements = []\n",
    "    for landmark in self.landmarks:\n",
    "      noise = np.random.multivariate_normal([0, 0], self.sensor_noise_covariance)\n",
    "\n",
    "      r = math.hypot(landmark[0]-self.robot.x, landmark[1]-self.robot.y) + noise[0]\n",
    "      b = math.atan2(landmark[1]-self.robot.y, landmark[0]-self.robot.x) + noise[1]\n",
    "\n",
    "      measurements.append(Measurement(r, b))\n",
    "\n",
    "    return measurements\n",
    "\n",
    "def drive_in_a_square(simulator):\n",
    "  poses = []\n",
    "  poses.append(simulator.robot)\n",
    "  for sides in range(4):\n",
    "    for i in range(100):\n",
    "      simulator.simulate_motion(.1, 0)\n",
    "      poses.append(simulator.robot)\n",
    "    simulator.simulate_motion(0, np.pi/2)\n",
    "    poses.append(simulator.robot)\n",
    "\n",
    "  return np.array(poses)\n",
    "\n",
    "def press(event):\n",
    "  if event.key == 'q':\n",
    "    sys.exit(0)\n",
    "  plt.close()\n",
    "\n",
    "def draw_samples(samples):\n",
    "  fig, ax = plt.subplots()\n",
    "  ax.axis([-2, 12, -2, 12])\n",
    "  fig.canvas.mpl_connect('key_press_event', press)\n",
    "  ax.plot(samples[:, 0], samples[:, 1], 'g+')\n",
    "  plt.show()\n",
    "\n",
    "def draw_trajectories(true_poses, estimated_poses):\n",
    "  fig, ax = plt.subplots()\n",
    "  ax.axis([-20, 20, -20, 20])\n",
    "  fig.canvas.mpl_connect('key_press_event', press)\n",
    "\n",
    "  ax.plot(true_poses[:, 0], true_poses[:,1], 'b')\n",
    "  ax.plot(estimated_poses[:, 0], estimated_poses[:,1], 'r')\n",
    "  plt.show()\n",
    "\n",
    "\n"
   ]
  },
  {
   "cell_type": "markdown",
   "id": "dc0d011f",
   "metadata": {},
   "source": [
    "## Problems"
   ]
  },
  {
   "cell_type": "markdown",
   "id": "ee43366e",
   "metadata": {},
   "source": [
    "### Warmup 1\n",
    "Let's make sure we know how to resample a set of\n",
    "weights.\n",
    "\n",
    "Please write a function that takes in a list of samples and associated weights,\n",
    "and re-samples from the list of samples with replacement according the\n",
    "likelihood of each sample given by the list of weights. Please generate 100 samples.\n",
    "\n",
    "This should be an easy question --- you should feel free to use the sampling\n",
    "helper functions in numpy.\n",
    "\n",
    "\n",
    "For reference, our solution is **1** lines of code."
   ]
  },
  {
   "cell_type": "code",
   "execution_count": null,
   "id": "c2dda4fb",
   "metadata": {},
   "outputs": [],
   "source": [
    "def warmup_1(samples, weights):\n",
    "  raise NotImplementedError(\"Implement me!\")"
   ]
  },
  {
   "cell_type": "markdown",
   "id": "217a7490",
   "metadata": {},
   "source": [
    "Tests"
   ]
  },
  {
   "cell_type": "code",
   "execution_count": null,
   "id": "f0ca53d4",
   "metadata": {},
   "outputs": [],
   "source": [
    "\n",
    "print('Tests passed.')"
   ]
  },
  {
   "cell_type": "markdown",
   "id": "642de391",
   "metadata": {},
   "source": [
    "### Warmup 2\n",
    "We are going to be sampling from Gaussian\n",
    "systems in this miniproject. Let us check that we know how to sample from a\n",
    "multi-variate Gaussian.\n",
    "\n",
    "Please write a function that takes in a mean vector, a covariance matrix and a\n",
    "integer number of samples and returns a list of the requested number of\n",
    "samples drawn from a Gaussian with the given mean and covariance.\n",
    "\n",
    "This should be an easy question --- you should feel free to use the sampling\n",
    "helper functions in numpy.\n",
    "\n",
    "\n",
    "For reference, our solution is **2** lines of code."
   ]
  },
  {
   "cell_type": "code",
   "execution_count": null,
   "id": "9fa6e980",
   "metadata": {},
   "outputs": [],
   "source": [
    "def warmup_2(mean, covariance, num_samples):\n",
    "  \"\"\"Sample from a multi-variate Gaussian distribution.\n",
    "\n",
    "  Args:\n",
    "    mean: a vector in numpy.\n",
    "    covariance: a matrix in numpy.\n",
    "    num_samples: an integer.\n",
    "\n",
    "  Returns:\n",
    "    sample: a numpy vector with length num_samples.\n",
    "  \"\"\"\n",
    "  raise NotImplementedError(\"Implement me!\")"
   ]
  },
  {
   "cell_type": "markdown",
   "id": "8aa67230",
   "metadata": {},
   "source": [
    "Tests"
   ]
  },
  {
   "cell_type": "code",
   "execution_count": null,
   "id": "7e8ecbb0",
   "metadata": {},
   "outputs": [],
   "source": [
    "\n",
    "print('Tests passed.')"
   ]
  },
  {
   "cell_type": "markdown",
   "id": "b61f936a",
   "metadata": {},
   "source": [
    "### Sampling Question 1\n",
    "Let us now start by building a motion model for a\n",
    "quasi-holonomic ground robot.\n",
    "\n",
    "A common motion model for such a robot assumes that the robot has a pose given\n",
    "by $[x_t, y_t, \\theta_t]$ at time $t$. The robot takes a command $[\\Delta p_t,\n",
    "\\Delta \\theta_t]$ which modifies the robot's pose accoding to the following:\n",
    "\n",
    "$$\n",
    "\\begin{bmatrix} x_{t+1} \\\\ y_{t+1} \\\\ \\theta_{t+1} \\end{bmatrix} =\n",
    "\\begin{bmatrix} x_t + \\cos(\\theta_t) (\\Delta p_t + \\omega_t) \\\\\n",
    "y_t + \\sin(\\theta_t)(\\Delta p_t + \\omega_t) \\\\\n",
    "\\theta_t + \\Delta \\theta_t + \\nu_t\n",
    "\\end{bmatrix}\n",
    "$$\n",
    "\n",
    "where $[\\omega_t, \\nu_t]$ is Gaussian error injected at each time\n",
    "step, distributed as $\\omega_t \\sim \\mathcal{N}(0, \\sigma^2_p)$, and\n",
    "$\\nu_t \\sim \\mathcal{N}(0, \\sigma^2_\\theta)$. The units of $\\Delta  p_t$ is in\n",
    "metres and $\\Delta \\theta_t$ in radians.\n",
    "\n",
    "Let us assume that the robot's pose at each time step is a random variable\n",
    "given as a set of samples.\n",
    "\n",
    "Please implement a function that takes in a set of sampled poses\n",
    "drawn from prior pose random variable $\\mathbf{X}_t$\n",
    "and a control $[\\Delta p_t, \\Delta \\theta_t]$ and returns a set\n",
    "of samples drawn from the posterior $X_{t+1}$.\n",
    "\n",
    "\n",
    "\n",
    "For reference, our solution is **13** lines of code."
   ]
  },
  {
   "cell_type": "code",
   "execution_count": null,
   "id": "ac70adf0",
   "metadata": {},
   "outputs": [],
   "source": [
    "def motion_model(samples, delta_p, delta_theta, simulator):\n",
    "  \"\"\"A motion model.\n",
    "\n",
    "  Args:\n",
    "    samples: a list of samples\n",
    "    delta_p: translation command\n",
    "    delta_theta: rotation command\n",
    "    simulator: a Simulator object\n",
    "\n",
    "  Returns:\n",
    "    a list of new samples by applying the motion model\n",
    "  \"\"\"\n",
    "  raise NotImplementedError(\"Implement me!\")"
   ]
  },
  {
   "cell_type": "markdown",
   "id": "3b238a1d",
   "metadata": {},
   "source": [
    "Tests"
   ]
  },
  {
   "cell_type": "code",
   "execution_count": null,
   "id": "3ec8e09e",
   "metadata": {},
   "outputs": [],
   "source": [
    "\n",
    "print('Tests passed.')"
   ]
  },
  {
   "cell_type": "markdown",
   "id": "0946c69c",
   "metadata": {},
   "source": [
    "### Sampling Question 2\n",
    "Let us now add in a measurement model. Let us assume that\n",
    "there are four landmarks located at locations (-1, -1), (11, -1), (11, 11) and\n",
    "(-1, 11). The robot is equipped with a sensor that can measure the range and\n",
    "bearing [r, b] from the robot's location to each of these landmarks. Each of\n",
    "these measurements is corrupted with noise $[q_r, q_b]$ distributed according\n",
    "to $q_r \\sim \\mathcal{N}(0, \\sigma^2_r)$ and $q_b \\sim \\mathcal{N}(0,\n",
    "\\sigma^2_b)$.\n",
    "\n",
    "Given a set of measurements, we can use this model to compute the importance\n",
    "weights of a set of samples of the robot pose.\n",
    "\n",
    "Please implement a function that takes a set of samples and measurements and\n",
    "returns the importance weights of the samples.\n",
    "\n",
    "\n",
    "\n",
    "For reference, our solution is **18** lines of code."
   ]
  },
  {
   "cell_type": "code",
   "execution_count": null,
   "id": "14996d61",
   "metadata": {},
   "outputs": [],
   "source": [
    "def compute_weights(samples, measurement, simulator):\n",
    "  \"\"\"Compute the importance weights of the samples.\n",
    "\n",
    "  Args:\n",
    "    a list of samples\n",
    "    a measurement vector\n",
    "    a simulator object\n",
    "\n",
    "  Returns:\n",
    "    a list of importance weights\n",
    "  \"\"\"\n",
    "  raise NotImplementedError(\"Implement me!\")"
   ]
  },
  {
   "cell_type": "markdown",
   "id": "0dbc76cd",
   "metadata": {},
   "source": [
    "Tests"
   ]
  },
  {
   "cell_type": "code",
   "execution_count": null,
   "id": "974bcfc7",
   "metadata": {},
   "outputs": [],
   "source": [
    "\n",
    "print('Tests passed.')"
   ]
  },
  {
   "cell_type": "markdown",
   "id": "a3211eb7",
   "metadata": {},
   "source": [
    "### Main Question\n",
    "Now let's put everything together. Please write a method\n",
    "localization() that does the following:\n",
    "\n",
    "  * Creates a simulator.\n",
    "  * Initialize a set of samples drawn from a Gaussian distribution with mean\n",
    "equal to the robot starting position, and a diagonal covariance matrix equal\n",
    "to diag(1, 1, np.deg2rad(5))^2.\n",
    "  * Drive the robot along the same pattern as in the drive_in_a_square method,\n",
    "but on each step, after the command motion do the following:\n",
    "  * use the motion_model method to update the sample between each simulated\n",
    "motion,\n",
    "  * use compute_weights to compute the sample weights from the\n",
    "measurements,\n",
    "  * resample a new set of samples,\n",
    "  * blur the samples by applying noise drawn from a zero-mean Gaussian with\n",
    "covariance equal to `diag(.01, .01, np.deg2rad(1))^2`.\n",
    "\n",
    "\n",
    "For reference, our solution is **38** lines of code."
   ]
  },
  {
   "cell_type": "code",
   "execution_count": null,
   "id": "e056f8de",
   "metadata": {},
   "outputs": [],
   "source": [
    "def localization(simulator):\n",
    "  \"\"\"Main function for robot localization.\n",
    "\n",
    "  Args:\n",
    "    simulator: a Simulator object.\n",
    "\n",
    "  Returns:\n",
    "    true_poses\n",
    "    estimated_poses\n",
    "  \"\"\"\n",
    "  raise NotImplementedError(\"Implement me!\")"
   ]
  },
  {
   "cell_type": "markdown",
   "id": "81f3dda1",
   "metadata": {},
   "source": [
    "Tests"
   ]
  },
  {
   "cell_type": "code",
   "execution_count": null,
   "id": "66bedd03",
   "metadata": {},
   "outputs": [],
   "source": [
    "\n",
    "print('Tests passed.')"
   ]
  }
 ],
 "metadata": {
  "colab": {
   "collapsed_sections": [],
   "name": "mp02.ipynb",
   "provenance": []
  },
  "kernelspec": {
   "display_name": "Python 3",
   "name": "python3"
  },
  "language_info": {
   "name": "python"
  }
 },
 "nbformat": 4,
 "nbformat_minor": 5
}
