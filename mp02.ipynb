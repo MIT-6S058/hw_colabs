{
 "cells": [
  {
   "cell_type": "markdown",
   "id": "2a88ac0e",
   "metadata": {},
   "source": [
    "# Miniproject 2"
   ]
  },
  {
   "cell_type": "markdown",
   "id": "fc5877b9",
   "metadata": {},
   "source": [
    "## Imports and Utilities\n",
    "**Note**: these imports and functions are available in catsoop. You do not need to copy them in."
   ]
  },
  {
   "cell_type": "code",
   "execution_count": null,
   "id": "90f7c039",
   "metadata": {},
   "outputs": [],
   "source": [
    "import sys\n",
    "import math\n",
    "import numpy as np\n",
    "from collections import namedtuple\n",
    "# import matplotlib.pyplot as plt\n",
    "\n",
    "Pose = namedtuple(\"Pose\", [\"x\", \"y\", \"theta\"])\n",
    "Landmark = namedtuple(\"Landmark\", [\"x\", \"y\"])\n",
    "Measurement = namedtuple(\"Measurement\", [\"r\", \"b\"])\n",
    "\n",
    "def eval_gaussian(x, mean=0, var=1):\n",
    "  return 1.0/math.sqrt(2*math.pi*var)*math.exp(-0.5*(x-mean)**2/var)\n",
    "\n",
    "class Simulator:\n",
    "  def __init__(self):\n",
    "    np.random.seed()\n",
    "\n",
    "    self.robot = Pose(0, 0, 0)\n",
    "\n",
    "    self.motion_noise_covariance = [[1, 0], [0, 1]]\n",
    "    self.sensor_noise_covariance = [[1, 0], [0, np.deg2rad(5)**2]]\n",
    "\n",
    "    self.landmarks = [Landmark(-1, -1), Landmark(-1, -1), Landmark(11, 11), Landmark(-1, 11)]\n",
    "\n",
    "\n",
    "  def reset(self):\n",
    "    self.robot = Pose(0, 0, 0)\n",
    "\n",
    "  def simulate_motion(self, delta_p, delta_theta):\n",
    "    noise = np.random.multivariate_normal([0, 0], self.motion_noise_covariance)\n",
    "    x = self.robot.x + math.cos(self.robot.theta)*(delta_p + noise[0])\n",
    "    y = self.robot.y + math.sin(self.robot.theta)*(delta_p + noise[0])\n",
    "    theta = self.robot.theta + delta_theta + noise[1]\n",
    "    self.robot = Pose(x, y, theta)\n",
    "\n",
    "  def simulate_sensing(self):\n",
    "    measurements = []\n",
    "    for landmark in self.landmarks:\n",
    "      noise = np.random.multivariate_normal([0, 0], self.sensor_noise_covariance)\n",
    "\n",
    "      r = math.hypot(landmark[0]-self.robot.x, landmark[1]-self.robot.y) + noise[0]\n",
    "      b = math.atan2(landmark[1]-self.robot.y, landmark[0]-self.robot.x) + noise[1]\n",
    "\n",
    "      measurements.append(Measurement(r, b))\n",
    "\n",
    "    return measurements\n",
    "\n",
    "def drive_in_a_square(simulator):\n",
    "  poses = []\n",
    "  poses.append(simulator.robot)\n",
    "  for sides in range(4):\n",
    "    for i in range(100):\n",
    "      simulator.simulate_motion(.1, 0)\n",
    "      poses.append(simulator.robot)\n",
    "    simulator.simulate_motion(0, np.pi/2)\n",
    "    poses.append(simulator.robot)\n",
    "\n",
    "  return np.array(poses)\n",
    "\n",
    "def press(event):\n",
    "  if event.key == 'q':\n",
    "    sys.exit(0)\n",
    "  plt.close()\n",
    "\n",
    "def draw_samples(samples):\n",
    "  fig, ax = plt.subplots()\n",
    "  ax.axis([-2, 12, -2, 12])\n",
    "  fig.canvas.mpl_connect('key_press_event', press)\n",
    "  ax.plot(samples[:, 0], samples[:, 1], 'g+')\n",
    "  plt.show()\n",
    "\n",
    "def draw_trajectories(true_poses, estimated_poses):\n",
    "  fig, ax = plt.subplots()\n",
    "  ax.axis([-20, 20, -20, 20])\n",
    "  fig.canvas.mpl_connect('key_press_event', press)\n",
    "\n",
    "  ax.plot(true_poses[:, 0], true_poses[:,1], 'b')\n",
    "  ax.plot(estimated_poses[:, 0], estimated_poses[:,1], 'r')\n",
    "  plt.show()\n",
    "\n",
    "\n"
   ]
  },
  {
   "cell_type": "markdown",
   "id": "ff643b37",
   "metadata": {},
   "source": [
    "## Problems"
   ]
  },
  {
   "cell_type": "markdown",
   "id": "f6d3c3cb",
   "metadata": {},
   "source": [
    "### Warmup 1\n",
    "Let's make sure we know how to resample a set of\n",
    "weights.\n",
    "\n",
    "Please write a function that takes in a list of samples and associated weights,\n",
    "and re-samples from the list of samples with replacement according the\n",
    "likelihood of each sample given by the list of weights. Please generate 100 samples.\n",
    "\n",
    "This should be an easy question --- you should feel free to use the sampling\n",
    "helper functions in numpy. Specifically, take a look at the function numpy.random.choice.\n",
    "\n",
    "\n",
    "For reference, our solution is **1** lines of code."
   ]
  },
  {
   "cell_type": "code",
   "execution_count": null,
   "id": "750d2f21",
   "metadata": {},
   "outputs": [],
   "source": [
    "def warmup_1(samples, weights):\n",
    "  raise NotImplementedError(\"Implement me!\")"
   ]
  },
  {
   "cell_type": "markdown",
   "id": "00c8aee5",
   "metadata": {},
   "source": [
    "Tests"
   ]
  },
  {
   "cell_type": "code",
   "execution_count": null,
   "id": "1eaa46ee",
   "metadata": {},
   "outputs": [],
   "source": [
    "import random; import numpy.random; random.seed(0); numpy.random.seed(0);assert np.allclose(warmup_1(np.array([0, 1, 2, 3, 4, 5, 6, 7, 8, 9], dtype=np.int64), np.array([0.07773236, 0.225951  , 0.17077648, 0.01848701, 0.07523803, 0.00836341,  0.09806177, 0.00493559, 0.07789205, 0.2425623 ], dtype=np.float64)), np.array([4, 8, 6, 4, 2, 6, 2, 9, 9, 2, 9, 4, 4, 9, 0, 1, 0, 9, 9, 9, 9, 9, 2, 9, 1,  6, 1, 9, 4, 2, 1, 9, 2, 5, 0, 6, 6, 6, 9, 8, 2, 2, 8, 0, 6, 6, 1, 1, 2, 2,  5, 2, 9, 1, 1, 1, 6, 1, 2, 1, 1, 1, 6, 1, 1, 2, 9, 1, 9, 1, 9, 2, 9, 6, 8,  0, 1, 1, 1, 1, 2, 2, 0, 8, 4, 1, 4, 1, 5, 9, 2, 6, 1, 8, 1, 1, 6, 0, 9, 0], dtype=np.int64), atol=1e-6)\n",
    "print('Tests passed.')"
   ]
  },
  {
   "cell_type": "markdown",
   "id": "36263ad0",
   "metadata": {},
   "source": [
    "### Warmup 2\n",
    "We are going to be sampling from Gaussian\n",
    "systems in this miniproject. Let us check that we know how to sample from a\n",
    "multi-variate Gaussian.\n",
    "\n",
    "Please write a function that takes in a mean vector, a covariance matrix and a\n",
    "integer number of samples and returns a list of the requested number of\n",
    "samples drawn from a Gaussian with the given mean and covariance.\n",
    "\n",
    "This should be an easy question --- you should feel free to use the sampling\n",
    "helper functions in numpy. Specifically, take a look at the function numpy.random.multivariate_normal.\n",
    "\n",
    "\n",
    "For reference, our solution is **2** lines of code."
   ]
  },
  {
   "cell_type": "code",
   "execution_count": null,
   "id": "9849cce4",
   "metadata": {},
   "outputs": [],
   "source": [
    "def warmup_2(mean, covariance, num_samples):\n",
    "  \"\"\"Sample from a multi-variate Gaussian distribution.\n",
    "\n",
    "  Args:\n",
    "    mean: a vector in numpy.\n",
    "    covariance: a matrix in numpy.\n",
    "    num_samples: an integer.\n",
    "\n",
    "  Returns:\n",
    "    sample: a numpy vector with length num_samples.\n",
    "  \"\"\"\n",
    "  raise NotImplementedError(\"Implement me!\")"
   ]
  },
  {
   "cell_type": "markdown",
   "id": "0b32132e",
   "metadata": {},
   "source": [
    "Tests"
   ]
  },
  {
   "cell_type": "code",
   "execution_count": null,
   "id": "dfa2e1b7",
   "metadata": {},
   "outputs": [],
   "source": [
    "import random; import numpy.random; random.seed(0); numpy.random.seed(0);assert np.allclose(warmup_2(np.array([ 0.35563307, -0.45998405,  0.47038804], dtype=np.float64), np.array([[2.18405112, 1.00414281, 1.49286069],  [1.00414281, 0.58927147, 0.64943064],  [1.49286069, 0.64943064, 1.09813033]], dtype=np.float64), 5), np.array([[-2.35284352, -1.74151879, -1.13022555],  [-2.79906741, -2.68743248, -1.56968391],  [-1.03394876, -1.07404052, -0.54291808],  [-0.41991666, -0.6895003 ,  0.26060185],  [-0.81622825, -0.99467384, -0.2275568 ]], dtype=np.float64), atol=1e-6)\n",
    "print('Tests passed.')"
   ]
  },
  {
   "cell_type": "markdown",
   "id": "6c519429",
   "metadata": {},
   "source": [
    "### Sampling Question 1\n",
    "Let us now start by building a motion model for a\n",
    "quasi-holonomic ground robot.\n",
    "\n",
    "A common motion model for such a robot assumes that the robot has a pose given\n",
    "by $[x_t, y_t, \\theta_t]$ at time $t$. The robot takes a command $[\\Delta p_t,\n",
    "\\Delta \\theta_t]$ which modifies the robot's pose accoding to the following:\n",
    "\n",
    "$$\n",
    "\\begin{bmatrix} x_{t+1} \\\\ y_{t+1} \\\\ \\theta_{t+1} \\end{bmatrix} =\n",
    "\\begin{bmatrix} x_t + \\cos(\\theta_t) (\\Delta p_t + \\omega_t) \\\\\n",
    "y_t + \\sin(\\theta_t)(\\Delta p_t + \\omega_t) \\\\\n",
    "\\theta_t + \\Delta \\theta_t + \\nu_t\n",
    "\\end{bmatrix}\n",
    "$$\n",
    "\n",
    "where $[\\omega_t, \\nu_t]$ is Gaussian error injected at each time\n",
    "step, distributed as $\\omega_t \\sim \\mathcal{N}(0, \\sigma^2_p)$, and\n",
    "$\\nu_t \\sim \\mathcal{N}(0, \\sigma^2_\\theta)$. The units of $\\Delta  p_t$ is in\n",
    "metres and $\\Delta \\theta_t$ in radians.\n",
    "\n",
    "Let us assume that the robot's pose at each time step is a random variable\n",
    "given as a set of samples.\n",
    "\n",
    "Please implement a function that takes in a set of sampled poses\n",
    "drawn from prior pose random variable $\\mathbf{X}_t$\n",
    "and a control $[\\Delta p_t, \\Delta \\theta_t]$ and returns a set\n",
    "of samples drawn from the posterior $X_{t+1}$.\n",
    "\n",
    "At each step, please use numpy.random.multivariate_normal to sample the noise.\n",
    "\n",
    "\n",
    "For reference, our solution is **15** lines of code."
   ]
  },
  {
   "cell_type": "code",
   "execution_count": null,
   "id": "4d8fe7a5",
   "metadata": {},
   "outputs": [],
   "source": [
    "def motion_model(samples, delta_p, delta_theta, simulator):\n",
    "  \"\"\"A motion model.\n",
    "\n",
    "  Args:\n",
    "    samples: a list of samples\n",
    "    delta_p: translation command\n",
    "    delta_theta: rotation command\n",
    "    simulator: a Simulator object\n",
    "\n",
    "  Returns:\n",
    "    a list of new samples by applying the motion model\n",
    "  \"\"\"\n",
    "  raise NotImplementedError(\"Implement me!\")"
   ]
  },
  {
   "cell_type": "markdown",
   "id": "7ade5278",
   "metadata": {},
   "source": [
    "Tests"
   ]
  },
  {
   "cell_type": "code",
   "execution_count": null,
   "id": "87efbc19",
   "metadata": {},
   "outputs": [],
   "source": [
    "assert np.allclose(motion_model(np.array([[-0.12485737,  0.0909226 ,  0.08837767],  [ 0.14594718, -0.03253679,  0.06523788],  [-0.16237624,  0.09038093,  0.01541984],  [ 0.12985234, -0.01956601,  0.11623581],  [ 0.12240887, -0.00079457,  0.01140916],  [ 0.14330003, -0.21503661, -0.10787708],  [-0.0867798 ,  0.02703233,  0.02078785],  [ 0.044968  , -0.13099589,  0.09325367],  [ 0.07904346, -0.0213297 ,  0.05859272],  [ 0.13786624, -0.02582143, -0.01115459]], dtype=np.float64), 1, 0, <__main__.Simulator object at 0x7faf1434c580>), np.array([0., 0., 0., 0., 0., 0., 0., 0., 0., 0.], dtype=np.float64), atol=1e-6)\n",
    "print('Tests passed.')"
   ]
  },
  {
   "cell_type": "markdown",
   "id": "68b5ee38",
   "metadata": {},
   "source": [
    "### Sampling Question 2\n",
    "Let us now add in a measurement model. Let us assume that\n",
    "there are four landmarks located at locations (-1, -1), (11, -1), (11, 11) and\n",
    "(-1, 11). The robot is equipped with a sensor that can measure the range and\n",
    "bearing [r, b] from the robot's location to each of these landmarks. Each of\n",
    "these measurements is corrupted with noise $[q_r, q_b]$ distributed according\n",
    "to $q_r \\sim \\mathcal{N}(0, \\sigma^2_r)$ and $q_b \\sim \\mathcal{N}(0,\n",
    "\\sigma^2_b)$.\n",
    "\n",
    "Given a set of measurements, we can use this model to compute the importance\n",
    "weights of a set of samples of the robot pose.\n",
    "\n",
    "Please implement a function that takes a set of samples and measurements and\n",
    "returns the importance weights of the samples.\n",
    "\n",
    "\n",
    "\n",
    "For reference, our solution is **18** lines of code."
   ]
  },
  {
   "cell_type": "code",
   "execution_count": null,
   "id": "5543532e",
   "metadata": {},
   "outputs": [],
   "source": [
    "def compute_weights(samples, measurement, simulator):\n",
    "  \"\"\"Compute the importance weights of the samples.\n",
    "\n",
    "  Args:\n",
    "    a list of samples\n",
    "    a measurement vector\n",
    "    a simulator object\n",
    "\n",
    "  Returns:\n",
    "    a list of importance weights\n",
    "  \"\"\"\n",
    "  raise NotImplementedError(\"Implement me!\")"
   ]
  },
  {
   "cell_type": "markdown",
   "id": "53d87e0c",
   "metadata": {},
   "source": [
    "Tests"
   ]
  },
  {
   "cell_type": "code",
   "execution_count": null,
   "id": "ab2b87b2",
   "metadata": {},
   "outputs": [],
   "source": [
    "\n",
    "print('Tests passed.')"
   ]
  },
  {
   "cell_type": "markdown",
   "id": "c1ce36ca",
   "metadata": {},
   "source": [
    "### Main Question\n",
    "Now let's put everything together. Please write a method\n",
    "localization() that does the following:\n",
    "\n",
    "  * Creates a simulator.\n",
    "  * Initialize a set of samples drawn from a Gaussian distribution with mean\n",
    "equal to the robot starting position, and a diagonal covariance matrix equal\n",
    "to diag(1, 1, np.deg2rad(5))^2.\n",
    "  * Drive the robot along the same pattern as in the drive_in_a_square method,\n",
    "but on each step, after the command motion do the following:\n",
    "  * use the motion_model method to update the sample between each simulated\n",
    "motion,\n",
    "  * use compute_weights to compute the sample weights from the\n",
    "measurements,\n",
    "  * resample a new set of samples,\n",
    "  * blur the samples by applying noise drawn from a zero-mean Gaussian with\n",
    "covariance equal to `diag(.01, .01, np.deg2rad(1))^2`.\n",
    "\n",
    "\n",
    "For reference, our solution is **38** lines of code."
   ]
  },
  {
   "cell_type": "code",
   "execution_count": null,
   "id": "b6aa5b86",
   "metadata": {},
   "outputs": [],
   "source": [
    "def localization(simulator):\n",
    "  \"\"\"Main function for robot localization.\n",
    "\n",
    "  Args:\n",
    "    simulator: a Simulator object.\n",
    "\n",
    "  Returns:\n",
    "    true_poses\n",
    "    estimated_poses\n",
    "  \"\"\"\n",
    "  raise NotImplementedError(\"Implement me!\")"
   ]
  },
  {
   "cell_type": "markdown",
   "id": "427c4ad7",
   "metadata": {},
   "source": [
    "Tests"
   ]
  },
  {
   "cell_type": "code",
   "execution_count": null,
   "id": "84bfd6b6",
   "metadata": {},
   "outputs": [],
   "source": [
    "\n",
    "print('Tests passed.')"
   ]
  }
 ],
 "metadata": {
  "colab": {
   "collapsed_sections": [],
   "name": "mp02.ipynb",
   "provenance": []
  },
  "kernelspec": {
   "display_name": "Python 3",
   "name": "python3"
  },
  "language_info": {
   "name": "python"
  }
 },
 "nbformat": 4,
 "nbformat_minor": 5
}
