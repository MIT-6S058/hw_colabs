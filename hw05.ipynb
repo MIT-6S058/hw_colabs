{
 "cells": [
  {
   "cell_type": "markdown",
   "metadata": {},
   "source": [
    "# Homework 5"
   ]
  },
  {
   "cell_type": "markdown",
   "metadata": {},
   "source": [
    "## Imports and Utilities\n",
    "**Note**: these imports and functions are available in catsoop. You do not need to copy them in."
   ]
  },
  {
   "cell_type": "code",
   "execution_count": null,
   "metadata": {},
   "outputs": [],
   "source": [
    "from collections import namedtuple, defaultdict\n",
    "from itertools import count\n",
    "import heapq as hq\n",
    "import numpy as np\n",
    "\n",
    "\n",
    "def grid_successor_fn(state):\n",
    "  \"\"\"Helper for testing heuristic search.\n",
    "  \"\"\"\n",
    "  arrival_costs = np.array([\n",
    "    [1, 1, 8, 1, 1],\n",
    "    [1, 8, 1, 1, 1],\n",
    "    [1, 8, 1, 1, 1],\n",
    "    [1, 1, 1, 8, 1],\n",
    "    [1, 1, 8, 8, 1],\n",
    "  ], dtype=float)\n",
    "\n",
    "  act_to_delta = {\n",
    "    \"up\": (-1, 0),\n",
    "    \"down\": (1, 0),\n",
    "    \"left\": (0, -1),\n",
    "    \"right\": (0, 1),\n",
    "  }\n",
    "\n",
    "  r, c = state\n",
    "\n",
    "  for act, (dr, dc) in act_to_delta.items():\n",
    "    new_r, new_c = r + dr, c + dc\n",
    "    # Check if in bounds\n",
    "    if not (0 <= new_r < arrival_costs.shape[0] and \\\n",
    "            0 <= new_c < arrival_costs.shape[1]):\n",
    "      continue\n",
    "    # Valid action\n",
    "    yield (act, (new_r, new_c), arrival_costs[new_r, new_c])\n",
    "\n",
    "\n",
    "def grid_check_goal_fn(state):\n",
    "  \"\"\"Helper for testing heuristic search.\n",
    "  \"\"\"\n",
    "  # Bottom right corner of grid\n",
    "  return state == (4, 4)\n",
    "\n",
    "\n",
    "def grid_heuristic_fn(state):\n",
    "  \"\"\"Helper for testing heuristic search.\n",
    "  \"\"\"\n",
    "  # Manhattan distance\n",
    "  return abs(state[0] - 4) + abs(state[1] - 4)\n",
    "\n",
    "\n",
    "# A useful data structure for heuristic search\n",
    "Node = namedtuple(\"Node\", [\"state\", \"parent\", \"action\", \"cost\", \"g\"])\n",
    "\n"
   ]
  },
  {
   "cell_type": "markdown",
   "metadata": {},
   "source": [
    "## Problems"
   ]
  },
  {
   "cell_type": "markdown",
   "metadata": {},
   "source": [
    "### Heuristic Search\n",
    "Complete an implementation of heuristic search, encompassing A*, GBFS, UC.\n",
    "\n",
    "For reference, our solution is **46** lines of code."
   ]
  },
  {
   "cell_type": "code",
   "execution_count": null,
   "metadata": {},
   "outputs": [],
   "source": [
    "def run_heuristic_search(initial_state, check_goal, get_successors, get_priority, max_expansions=1000):\n",
    "  \"\"\"A generic heuristic implementation.\n",
    "\n",
    "  Depending on get_priority, can implement A*, GBFS, UCS, or DFS.\n",
    "\n",
    "  Args:\n",
    "    initial_state: A hashable representation of state.\n",
    "    check_goal: A callable that takes a state and returns True\n",
    "        if the state is a goal.\n",
    "    get_successors: A callable that takes a state and returns an\n",
    "        iterable of (action, next state, cost).\n",
    "    get_priority: A callable that takes a Node and returns a\n",
    "        float priority, with lower better, for the priority\n",
    "        queue. This function is what switches between different\n",
    "        versions of heurstic search.\n",
    "    max_expansions: An int maximum number of nodes to expand\n",
    "        because giving up.\n",
    "\n",
    "  Returns:\n",
    "    state_sequence: A list of states.\n",
    "    action_sequence: A list of actions.\n",
    "    cost_sequence: A list of costs.\n",
    "    num_node_expansions: An int.\n",
    "\n",
    "  Raises:\n",
    "    error: ValueError, if no plan was found.\n",
    "  \"\"\"\n",
    "  raise NotImplementedError(\"Implement me!\")"
   ]
  },
  {
   "cell_type": "markdown",
   "metadata": {},
   "source": [
    "Tests"
   ]
  },
  {
   "cell_type": "code",
   "execution_count": null,
   "metadata": {},
   "outputs": [],
   "source": [
    "# We will test this implementation more thoroughly with the\n",
    "# specific heuristic search algorithms that follow\n",
    "initial_state = (0, 0)\n",
    "get_priority_fn = lambda node: 0\n",
    "result = run_heuristic_search(initial_state, grid_check_goal_fn,\n",
    "    grid_successor_fn, get_priority_fn)\n",
    "assert len(result) == 4\n",
    "\n",
    "print('Tests passed.')"
   ]
  }
 ],
 "metadata": {
  "colab": {
   "collapsed_sections": [],
   "name": "hw05.ipynb",
   "provenance": []
  },
  "kernelspec": {
   "display_name": "Python 3",
   "name": "python3"
  },
  "language_info": {
   "name": "python"
  }
 },
 "nbformat": 4,
 "nbformat_minor": 4
}
