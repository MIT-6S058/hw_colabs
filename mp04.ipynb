{
 "cells": [
  {
   "cell_type": "markdown",
   "metadata": {},
   "source": [
    "# Miniproject 2"
   ]
  },
  {
   "cell_type": "markdown",
   "metadata": {},
   "source": [
    "## Problems"
   ]
  },
  {
   "cell_type": "markdown",
   "metadata": {},
   "source": [
    "### Warmup 1\n",
    "\n",
    "We have provided a new RescueMDP class for you, that models the robot's motion\n",
    "as noisy. This class is in many ways similar to the ChaseMDP class in homework\n",
    "7, in that it is a maze MDP with obstacles. However, there's just the one\n",
    "agent (the robot, no bunny).\n",
    "\n",
    "Recall that an MDP is defined by the following tuple:\n",
    "* States: The state space is a set of coordinates. The set is defined over a\n",
    "grid, but states that aren't obstacles aren't in the state space.\n",
    "* Actions: The robot can take four actions, up, down, left, right.\n",
    "* A transition function: The probability the action succeeds at moving the\n",
    "robot in the given direction is given by the class field\n",
    "`correct_transition_probability`. If this probability is less than 1, then the\n",
    "rest of the probability mass is uniformly distributed among the other three\n",
    "directions. Any probability mass for a motion that would move the robot into\n",
    "an obstacle or out of the map is mapped to the robot staying the same\n",
    "place. If the robot is in the goal state and the MDP has the flag\n",
    "`goal_is_terminal = True`, it cannot transition out of the goal state. If the flag\n",
    "`goal_is_terminal = False`, the robot is free to leave the goal state and\n",
    "re-enter it.\n",
    "* Reward function: The robot gets a reward of `living_reward` for each action\n",
    "it takes. It gets reward of `goal_reward` every time it enters the goal\n",
    "state.\n",
    "\n",
    "Let's begin solving a small version of the RescueMDP. The maze is 4x5 (remember\n",
    "that arrays are row-major order). The person to be rescued (goal_location) is\n",
    "at (0, 0).\n",
    "\n",
    "In the first warmup problem, please solve\n",
    "for the optimal value function for this problem. We have provided the reference\n",
    "implementation for value iteration. \n",
    "\n",
    "For reference, our solution is **4** lines of code."
   ]
  },
  {
   "cell_type": "code",
   "execution_count": null,
   "metadata": {},
   "outputs": [],
   "source": [
    "def warmup_1():\n",
    "  \"\"\"Creates a SmallRescueMDP() and returns the optimal value function.\n",
    "\n",
    "  Args:\n",
    "    None\n",
    "\n",
    "  Returns:\n",
    "    value function: a dict of states to values\n",
    "  \"\"\"\n",
    "  raise NotImplementedError(\"Implement me!\")"
   ]
  },
  {
   "cell_type": "markdown",
   "metadata": {},
   "source": [
    "Tests"
   ]
  },
  {
   "cell_type": "code",
   "execution_count": null,
   "metadata": {},
   "outputs": [],
   "source": [
    "\n",
    "print('Tests passed.')"
   ]
  },
  {
   "cell_type": "markdown",
   "metadata": {},
   "source": [
    "### Warmup 2\n",
    "\n",
    "We also want you to be able to examine the policy that results from solving\n",
    "for the optimal value function. Please use the helper function\n",
    "`plot_value_function` to generate a plot of both the value function and the\n",
    "corresponding policy.\n",
    "\n",
    "<!-- first_experiment() -->\n",
    "<div class=\"question question-multiplechoice\">\n",
    "<b>Submission Material 1:</b> In your submitted pdf, please include a single\n",
    "plot of the value function with the action under the optimal policy drawn for\n",
    "each state. Name this figure as Figure 1.\n",
    "</div>\n"
   ]
  },
  {
   "cell_type": "markdown",
   "metadata": {},
   "source": [
    "### Warmup 3\n",
    "Please hand-code a list of actions that will get the robot from (3,2) to the goal location (0, 0) under the optimal policy. This should be a python list of actions, e.g., [down, down, down, down].\n",
    "\n",
    "For reference, our solution is **2** lines of code."
   ]
  },
  {
   "cell_type": "code",
   "execution_count": null,
   "metadata": {},
   "outputs": [],
   "source": [
    "def warmup3():\n",
    "  \"\"\"Hand-code a list of actions that the robot will take under the optimal\n",
    "  policy from a start state of (3, 2) to the goal state of (0, 0).\n",
    "\n",
    "  Returns:\n",
    "    actions: A list of str actions that get the robot to the goal state.\n",
    "  \"\"\"\n",
    "  raise NotImplementedError(\"Implement me!\")"
   ]
  },
  {
   "cell_type": "markdown",
   "metadata": {},
   "source": [
    "Tests"
   ]
  },
  {
   "cell_type": "code",
   "execution_count": null,
   "metadata": {},
   "outputs": [],
   "source": [
    "\n",
    "print('Tests passed.')"
   ]
  },
  {
   "cell_type": "markdown",
   "metadata": {},
   "source": [
    "### MDP Question 2\n",
    "\n",
    "In the MDP class we have provided, the goal state is a terminal state. Once\n",
    "the agent is in the terminal state, it can't leave and it doesn't receive any\n",
    "more reward. Let's investigate what happens if we don't make the goal state a\n",
    "terminal state.\n",
    "\n",
    "Please create a SmallRescueMDP, set the goal_is_terminal to be False, and\n",
    "compute the value function.\n",
    "\n",
    "<div class=\"question question-multiplechoice\">\n",
    "<b>Submission Material 2:</b> In your submitted pdf, please include a single\n",
    "plot of the value function with the action under the optimal policy drawn for\n",
    "each state. Name this figure as Figure 2.\n",
    "\n",
    "In your pdf, please also answer the following questions:\n",
    "\n",
    "* Compared to the previous question, you should have seen the number of\n",
    "iterations change before value iteration converged. Why is that? What extra\n",
    "work are we making value iteration do in this case?\n",
    "\n",
    "<!-- Because the goal state is not terminal, the agent has the option to leave\n",
    "the goal state and return, and accumulate the goal reward over and over\n",
    "again. The future rewards are discounted, and so this accumulation of reward\n",
    "will eventually converge, but the value iteration process needs to run to\n",
    "convergence to add up that geometric series. -->\n",
    "\n",
    "* At the same time, the optimal policy did not change anywhere except possibly\n",
    "the goal. Why is the policy the same, even though it took more iterations to\n",
    "converge?\n",
    "\n",
    "<-- The extra work is really adding up the extra rewards at the goal state, so\n",
    "the policy shouldn't change anywhere else. -->\n",
    "\n",
    "* Is there some property of the reward function in general for MDPs that makes\n",
    "solving for the optimal policy with value iteration easier or harder?\n",
    "\n",
    "<-- If the distribution of states that the policy visits in the limit of time\n",
    "has zero expected reward, then there's no geometric series of discounted\n",
    "rewards to add up. A terminal state with zero reward makes that happen. -->\n",
    "\n",
    "* Optional: In this and the following questions, when we ask you to compare\n",
    "policies, we want you to ignore the goals state.  The value at the goal\n",
    "state will usually not change, but the action returned by the policy might have. Why\n",
    "is that?\n",
    "\n",
    "<-- The goal state, all actions are equal, so the policy returns the first\n",
    "action in the list of mdp.action_space. This is a set, and the order of items\n",
    "returned by a set is not guaranteed in python, so the first item returned is\n",
    "non-deterministic. -->\n",
    "\n",
    "</div>\n",
    "\n",
    "\n",
    "For reference, our solution is **5** lines of code."
   ]
  },
  {
   "cell_type": "code",
   "execution_count": null,
   "metadata": {},
   "outputs": [],
   "source": [
    "def MDP_2():\n",
    "  \"\"\"Creates a SmallRescueMDP(), sets goal_is_terminal to False and returns the optimal value function.\n",
    "\n",
    "  Args:\n",
    "    None\n",
    "\n",
    "  Returns:\n",
    "    value function: a dict of states to values\n",
    "    it: the number of iterations required to solve for the value function\n",
    "  \"\"\"\n",
    "  raise NotImplementedError(\"Implement me!\")"
   ]
  },
  {
   "cell_type": "markdown",
   "metadata": {},
   "source": [
    "Tests"
   ]
  },
  {
   "cell_type": "code",
   "execution_count": null,
   "metadata": {},
   "outputs": [],
   "source": [
    "\n",
    "print('Tests passed.')"
   ]
  },
  {
   "cell_type": "markdown",
   "metadata": {},
   "source": [
    "### MDP Question 3\n",
    "\n",
    "Let's now turn our attention to a larger MDP. Please create a LargeRescueMDP\n",
    "and compute the optimal policy.\n",
    "\n",
    "<div class=\"question question-multiplechoice\">\n",
    "<b>Submission Material 3:</b> In your submitted pdf, please include a single\n",
    "plot of the value function with the action under the optimal policy drawn for\n",
    "each state. Name this figure as Figure 3.\n",
    "</div>\n",
    "\n",
    "\n",
    "For reference, our solution is **3** lines of code."
   ]
  },
  {
   "cell_type": "code",
   "execution_count": null,
   "metadata": {},
   "outputs": [],
   "source": [
    "def MDP_3():\n",
    "  \"\"\"Creates a LargeRescueMDP(), and returns the optimal value function and\n",
    "  number of iterations required to converge\n",
    "\n",
    "  Args:\n",
    "    None\n",
    "\n",
    "  Returns:\n",
    "    value function: a dict of states to values\n",
    "    it: the number of iterations required to solve for the value function\n",
    "  \"\"\"\n",
    "  raise NotImplementedError(\"Implement me!\")"
   ]
  },
  {
   "cell_type": "markdown",
   "metadata": {},
   "source": [
    "Tests"
   ]
  },
  {
   "cell_type": "code",
   "execution_count": null,
   "metadata": {},
   "outputs": [],
   "source": [
    "\n",
    "print('Tests passed.')"
   ]
  },
  {
   "cell_type": "markdown",
   "metadata": {},
   "source": [
    "### MDP Question 4\n",
    "\n",
    "The default transition model for the LargeRescueMDP is pretty close\n",
    "deterministic. There is a .97 chance that each action succeeds in the intended\n",
    "direction (unless there's an obstacle in the way or its the edge of the map)\n",
    "and only a .01 chance of ending up in one of the other 3 neighbouring grid\n",
    "cells.\n",
    "\n",
    "What happens if we make the transition model noisier? Please create a\n",
    "LargeRescueMDP and set the correct_transition_probability to be .76. This is\n",
    "not too noisy, but it has implications for our ability to solve for the\n",
    "optimal policy.\n",
    "\n",
    "<div class=\"question question-multiplechoice\">\n",
    "<b>Submission Material 4:</b> In your submitted pdf, please include a single\n",
    "plot of the value function with the action under the optimal policy drawn for\n",
    "each state. Name this figure as Figure 4.\n",
    "\n",
    "In your pdf, please also answer the following questions:\n",
    "\n",
    "* Compared to the previous question, you should have seen the number of\n",
    "iterations change before value iteration converged. Why is that? What extra\n",
    "work are we making value iteration do in this case?\n",
    "\n",
    "<!-- Because the motion to the next state is noisy, it can take more steps to get\n",
    "to the goal. Value iteration converges when the expected reward of the policy\n",
    "from each state to the goal has been computed. Since it takes more steps to\n",
    "get to the goal, it takes more iterations to compute the expected reward. -->\n",
    "\n",
    "* At the same time, the optimal policy did not change. Why didn't the policy\n",
    "change under the noisy dynamics?\n",
    "\n",
    "<!-- There isn't a way for the agent to compensate for the noisy dynamics, so\n",
    "there's no change to the policy that could improve the progress towards the\n",
    "goal. -->\n",
    "\n",
    "* You should have seen the value function decrease in nearly all cells. Why\n",
    "did it go down? Where is the loss in value coming from?\n",
    "\n",
    "<!-- The loss in value at each state comes from the fact that more actions are\n",
    "likely to be required to get to the goal, and so the value of the goal state\n",
    "is likely to be discounted more, and the discounted expected value\n",
    "of a sequence of actions will be reduced. -->\n",
    "\n",
    "* What would happen to the number of iterations, to the policy, and to the\n",
    "value function if the dynamics were even noisier, say\n",
    "correct_transition_probability was set to 0.5?\n",
    "\n",
    "<!-- The number of iterations would go up, the value function would be reduced\n",
    "further, but the policy would not change. -->\n",
    "\n",
    "</div>\n",
    "\n",
    "\n",
    "For reference, our solution is **4** lines of code."
   ]
  },
  {
   "cell_type": "code",
   "execution_count": null,
   "metadata": {},
   "outputs": [],
   "source": [
    "def MDP_4():\n",
    "  \"\"\"Creates a LargeRescueMDP(), sets the correct_transition_probability to\n",
    "  .76 and returns the optimal value function and\n",
    "  number of iterations required to converge\n",
    "\n",
    "  Args:\n",
    "    None\n",
    "\n",
    "  Returns:\n",
    "    value function: a dict of states to values\n",
    "    it: the number of iterations required to solve for the value function\n",
    "  \"\"\"\n",
    "  raise NotImplementedError(\"Implement me!\")"
   ]
  },
  {
   "cell_type": "markdown",
   "metadata": {},
   "source": [
    "Tests"
   ]
  },
  {
   "cell_type": "code",
   "execution_count": null,
   "metadata": {},
   "outputs": [],
   "source": [
    "\n",
    "print('Tests passed.')"
   ]
  },
  {
   "cell_type": "markdown",
   "metadata": {},
   "source": [
    "### MDP Question 5\n",
    "\n",
    "The default temporal_discount_factor is .9. This is in general quite a low\n",
    "discount factor. An action 20 steps away will have $.9^{20} \\approx .12$ impact on later\n",
    "actions.\n",
    "\n",
    "What happens if we increase the discount factor? Please create a\n",
    "LargeRescueMDP, set the temporal_discount_factor to be .99, and also set\n",
    "the correct_transition_probability to be .76. Then please solve for the\n",
    "optimal value function.\n",
    "\n",
    "<div class=\"question question-multiplechoice\">\n",
    "<b>Submission Material 5:</b> In your submitted pdf, please include a single\n",
    "plot of the value function with the action under the optimal policy drawn for\n",
    "each state. Name this figure as Figure 5.\n",
    "\n",
    "In your pdf, please also answer the following questions:\n",
    "\n",
    "* Compared to the previous question, you should have seen the number of\n",
    "iterations increase before value iteration converged. Why is that? What\n",
    "extra work are we making value iteration do in this case?\n",
    "\n",
    "<!-- This is a subtle question. If the value of a state is the expected return\n",
    "of a discounted sequence of rewards, the value function converges when we've\n",
    "done enough backups that the effect of one more backup and one more discounted\n",
    "reward is no longer measurable numerically. When we make the value function\n",
    "close to one, then it takes a longer sequence of backups for the discounted\n",
    "reward to no longer be measurable numerically. -->\n",
    "\n",
    "* At the same time, the optimal policy did not change. Why is the policy the\n",
    "same, but it took more iterations to converge?\n",
    "\n",
    "<!-- There's no reason to do anything different, we're just making the value\n",
    "function compute the expected value of a longer sequence of possible outcomes\n",
    "under the policy. -->\n",
    "\n",
    "* You should have seen the value function increase in nearly all cells. Why\n",
    "did it go up? Where did the increase in value come from?\n",
    "\n",
    "<!-- The increase in value came from the fact that we're not down-weighting\n",
    "the future as much. For the same sequence of actions, we expect to get a\n",
    "higher reward because we value the future more. -->\n",
    "\n",
    "* What would happen to the number of iterations, to the policy, and to the\n",
    "value function if we left the temporal_discount_factor at .99 but made the\n",
    "dynamics fairly deterministic again, say correct_transition_probability = .99?\n",
    "(You should try this!)\n",
    "\n",
    "<!-- The number of iterations will go down because the path is nearly\n",
    "deterministic now --- from each state, the policy will get to the goal in\n",
    "(mostly) a fixed number of steps. The fact that we can take expectations over\n",
    "longer sequences of actions doesn't change the value function or make us\n",
    "compute more iterations because once we get to the goal, we get no more\n",
    "reward. The policy won't change, but the value function will stay high. -->\n",
    "\n",
    "</div>\n",
    "\n",
    "\n",
    "For reference, our solution is **5** lines of code."
   ]
  },
  {
   "cell_type": "code",
   "execution_count": null,
   "metadata": {},
   "outputs": [],
   "source": [
    "def MDP_5():\n",
    "  \"\"\"Creates a LargeRescueMDP(), sets the correct_transition_probability to\n",
    "  .76 and the temporal_discount_factor to .99 and returns the optimal value function and\n",
    "  number of iterations required to converge\n",
    "\n",
    "  Args:\n",
    "    None\n",
    "\n",
    "  Returns:\n",
    "    value function: a dict of states to values\n",
    "    it: the number of iterations required to solve for the value function\n",
    "  \"\"\"\n",
    "  raise NotImplementedError(\"Implement me!\")"
   ]
  },
  {
   "cell_type": "markdown",
   "metadata": {},
   "source": [
    "Tests"
   ]
  },
  {
   "cell_type": "code",
   "execution_count": null,
   "metadata": {},
   "outputs": [],
   "source": [
    "\n",
    "print('Tests passed.')"
   ]
  },
  {
   "cell_type": "markdown",
   "metadata": {},
   "source": [
    "### MDP Question 6\n",
    "\n",
    "Let's make the problem a little harder. In addition to obstacles, our\n",
    "RescueMDP class supports hazards, which are states that have a penalty for\n",
    "entering.\n",
    "\n",
    "Let's start with relatively noise-free dynamics. Please create a\n",
    "LargeRescueMDP and set a hazard at `{(1, 4)}'. Then please solve for the\n",
    "optimal value function.\n",
    "\n",
    "<div class=\"question question-multiplechoice\">\n",
    "<b>Submission Material 6:</b> In your submitted pdf, please include a single\n",
    "plot of the value function with the action under the optimal policy drawn for\n",
    "each state. Name this figure as Figure 6.\n",
    "\n",
    "In your pdf, please also answer the following questions:\n",
    "\n",
    "* Compared to question three (LargeRescueMDP, discount factor = .9,\n",
    "correct_transition_probability = .97, no hazards), the number of iterations to\n",
    "solve for the optimal value function should be more or less the same, and the\n",
    "policy is the same too. Why didn't the hazard change the policy or require\n",
    "more iterations?\n",
    "\n",
    "<!-- The location of the hazard wasn't on the most likely path to the goal for\n",
    "most states, and with nearly-deterministic dynamics, there was rarely a need\n",
    "to react to the hazard. -->\n",
    "\n",
    "* You should have seen the value function decrease a little bit some but not\n",
    "all states. Where did the value function change and why?\n",
    "\n",
    "<!-- The states where the expected trajectory took the agent past the hazard\n",
    "saw a small reduction in value, due to the small chance that the stochastic\n",
    "dynamcs would take the agent into the hazard, e.g. (0, 0). The states where\n",
    "the expected trajectory took the agent nowhere near the hazard saw no change\n",
    "in value because for those states, the problem looks exactly the same as\n",
    "before. -->\n",
    "\n",
    "</div>\n",
    "\n",
    "\n",
    "For reference, our solution is **4** lines of code."
   ]
  },
  {
   "cell_type": "code",
   "execution_count": null,
   "metadata": {},
   "outputs": [],
   "source": [
    "def MDP_6():\n",
    "  \"\"\"Creates a LargeRescueMDP(), and sets a hazard at `{(1, 4)}' and returns\n",
    "  the optimal value function and number of iterations required to converge\n",
    "\n",
    "  Args:\n",
    "    None\n",
    "\n",
    "  Returns:\n",
    "    value function: a dict of states to values\n",
    "    it: the number of iterations required to solve for the value function\n",
    "  \"\"\"\n",
    "  raise NotImplementedError(\"Implement me!\")"
   ]
  },
  {
   "cell_type": "markdown",
   "metadata": {},
   "source": [
    "Tests"
   ]
  },
  {
   "cell_type": "code",
   "execution_count": null,
   "metadata": {},
   "outputs": [],
   "source": [
    "\n",
    "print('Tests passed.')"
   ]
  },
  {
   "cell_type": "markdown",
   "metadata": {},
   "source": [
    "### MDP Question 7\n",
    "\n",
    "Given the hazards, let's make the dynamics noisier. Please create a\n",
    "LargeRescueMDP, set a hazard at `{(1, 4)}' and set\n",
    "correct_transition_probability to be .76. Then please solve for the optimal\n",
    "value function.\n",
    "\n",
    "<div class=\"question question-multiplechoice\">\n",
    "<b>Submission Material 7:</b> In your submitted pdf, please include a single\n",
    "plot of the value function with the action under the optimal policy drawn for\n",
    "each state. Name this figure as Figure 7.\n",
    "\n",
    "In your pdf, please also answer the following questions:\n",
    "\n",
    "* Compared to the previous question, with these noisier dynamics, the policy\n",
    "changed slightly. Please enumerate which states had a different policy\n",
    "relative to the previous question. Why did the policy change?\n",
    "\n",
    "<!-- The policy changed in states (4,1) and (3,0). For those two states, the\n",
    "risk of encountering the hazard, and the associated penalty, increased enough\n",
    "relative to the last problem that it made more sense to go down and around the\n",
    "red obstacle, rather than up and over. Those two states were right on the\n",
    "borderline of whether the higher value policy was to go up and over or down\n",
    "and under. When the dynamics are deterministic,\n",
    "it's cheaper to go up and over. The increased noise made it cheaper to go down\n",
    "and under and avoid the hazard.\n",
    "\n",
    "-->\n",
    "\n",
    "</div>\n",
    "\n",
    "\n",
    "For reference, our solution is **5** lines of code."
   ]
  },
  {
   "cell_type": "code",
   "execution_count": null,
   "metadata": {},
   "outputs": [],
   "source": [
    "def MDP_7():\n",
    "  \"\"\"Creates a LargeRescueMDP(), and sets a hazard at `{(1, 4)}' and returns\n",
    "  the optimal value function and number of iterations required to converge\n",
    "\n",
    "  Args:\n",
    "    None\n",
    "\n",
    "  Returns:\n",
    "    value function: a dict of states to values\n",
    "    it: the number of iterations required to solve for the value function\n",
    "  \"\"\"\n",
    "  raise NotImplementedError(\"Implement me!\")"
   ]
  },
  {
   "cell_type": "markdown",
   "metadata": {},
   "source": [
    "Tests"
   ]
  },
  {
   "cell_type": "code",
   "execution_count": null,
   "metadata": {},
   "outputs": [],
   "source": [
    "\n",
    "print('Tests passed.')"
   ]
  },
  {
   "cell_type": "markdown",
   "metadata": {},
   "source": [
    "### MDP Question 8\n",
    "\n",
    "Now let's make the hazard really hazardous. Please create a LargeRescueMDP,\n",
    "set a hazard at `{(1, 4)}', set correct_transition_probability to be .76 and\n",
    "set the hazard_cost to be -1000. Then please solve for the optimal value\n",
    "function.\n",
    "\n",
    "<div class=\"question question-multiplechoice\">\n",
    "<b>Submission Material 8:</b> In your submitted pdf, please include a single\n",
    "plot of the value function with the action under the optimal policy drawn for\n",
    "each state. Name this figure as Figure 8.\n",
    "\n",
    "In your pdf, please also answer the following questions:\n",
    "\n",
    "* Compared to the previous question, with these noisier dynamics, the policy\n",
    "changed a lot. Where did the policy change (you don't need to enumerate\n",
    "states, just give a general description) and why?\n",
    "\n",
    "<!-- The policy changed in the top left. It's cheaper now for all the states\n",
    "to the left of (0, 4) to go down and around, to avoid the large negative\n",
    "hazard.\n",
    "-->\n",
    "\n",
    "* Compared to the previous question, value iteration should have taken a\n",
    "little longer. What extra work are we making value iteration do in this\n",
    "case?\n",
    "\n",
    "<!-- Because the policy is taking the states from the top left of the state\n",
    "space down and around the obstacles, more iterations are required to compute\n",
    "the expected rewards for those states. -->\n",
    "\n",
    "</div>\n",
    "\n",
    "\n",
    "For reference, our solution is **5** lines of code."
   ]
  },
  {
   "cell_type": "code",
   "execution_count": null,
   "metadata": {},
   "outputs": [],
   "source": [
    "def MDP_8():\n",
    "  \"\"\"Creates a LargeRescueMDP(), sets the correct_transition_probability to\n",
    "  .76 and the temporal_discount_factor to .99 and returns the optimal value function and\n",
    "  number of iterations required to converge\n",
    "\n",
    "  Args:\n",
    "    None\n",
    "\n",
    "  Returns:\n",
    "    value function: a dict of states to values\n",
    "    it: the number of iterations required to solve for the value function\n",
    "  \"\"\"\n",
    "  raise NotImplementedError(\"Implement me!\")"
   ]
  },
  {
   "cell_type": "markdown",
   "metadata": {},
   "source": [
    "Tests"
   ]
  },
  {
   "cell_type": "code",
   "execution_count": null,
   "metadata": {},
   "outputs": [],
   "source": [
    "\n",
    "print('Tests passed.')"
   ]
  },
  {
   "cell_type": "markdown",
   "metadata": {},
   "source": [
    "### MDP Question 9\n",
    "\n",
    "What if we make the hazard even more hazardous, but have nearly-deterministic dynamics?\n",
    "Please create a LargeRescueMDP, set a hazard at `{(1, 4)}', leave the\n",
    "correct_transition_probability at its default value, but set the hazard_cost to be\n",
    "-10000. Then please solve for the optimal value function.\n",
    "\n",
    "\n",
    "<div class=\"question question-multiplechoice\">\n",
    "<b>Submission Material 9:</b> In your submitted pdf, please include a single\n",
    "plot of the value function with the action under the optimal policy drawn for\n",
    "each state. Name this figure as Figure 9.\n",
    "\n",
    "In your pdf, please also answer the following questions:\n",
    "\n",
    "* Compared to the previous question, with these cleaner dynamics, the policy\n",
    "didn't change. Why is that?\n",
    "\n",
    "<!-- Even with nearly deterministic dynamics, the cost of the hazard is so\n",
    "high that the agent would still prefer to avoid the hazard at all costs.\n",
    "-->\n",
    "\n",
    "* Compared to the previous question, value iteration should have been\n",
    "faster. Why is that?\n",
    "\n",
    "<!-- Because the dynamics are nearly-deterministic, the path to the goal from\n",
    "each state is going to be shorter. Value iteration needs to account for fewer\n",
    "contingencies. -->\n",
    "\n",
    "\n",
    "</div>\n",
    "\n",
    "\n",
    "For reference, our solution is **5** lines of code."
   ]
  },
  {
   "cell_type": "code",
   "execution_count": null,
   "metadata": {},
   "outputs": [],
   "source": [
    "def MDP_9():\n",
    "  \"\"\"Creates a LargeRescueMDP(), sets the correct_transition_probability to\n",
    "  .76 and the temporal_discount_factor to .99 and returns the optimal value function and\n",
    "  number of iterations required to converge\n",
    "\n",
    "  Args:\n",
    "    None\n",
    "\n",
    "  Returns:\n",
    "    value function: a dict of states to values\n",
    "    it: the number of iterations required to solve for the value function\n",
    "  \"\"\"\n",
    "  raise NotImplementedError(\"Implement me!\")"
   ]
  },
  {
   "cell_type": "markdown",
   "metadata": {},
   "source": [
    "Tests"
   ]
  },
  {
   "cell_type": "code",
   "execution_count": null,
   "metadata": {},
   "outputs": [],
   "source": [
    "\n",
    "print('Tests passed.')"
   ]
  }
 ],
 "metadata": {
  "colab": {
   "collapsed_sections": [],
   "name": "mp04.ipynb",
   "provenance": []
  },
  "kernelspec": {
   "display_name": "Python 3",
   "name": "python3"
  },
  "language_info": {
   "name": "python"
  }
 },
 "nbformat": 4,
 "nbformat_minor": 4
}
