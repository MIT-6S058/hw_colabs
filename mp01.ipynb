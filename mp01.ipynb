{
 "cells": [
  {
   "cell_type": "markdown",
   "metadata": {},
   "source": [
    "# Miniproject 1"
   ]
  },
  {
   "cell_type": "code",
   "execution_count": null,
   "metadata": {},
   "outputs": [],
   "source": [
    "!pip install pycosat\n",
    "!pip install sympy\n"
   ]
  },
  {
   "cell_type": "markdown",
   "metadata": {},
   "source": [
    "## Imports and Utilities\n",
    "**Note**: these imports and functions are available in catsoop. You do not need to copy them in."
   ]
  },
  {
   "cell_type": "code",
   "execution_count": null,
   "metadata": {},
   "outputs": [],
   "source": [
    "import numpy as np\n",
    "from sympy import Symbol, And, Or, satisfiable\n",
    "\n"
   ]
  },
  {
   "cell_type": "markdown",
   "metadata": {},
   "source": [
    "## Problems"
   ]
  },
  {
   "cell_type": "markdown",
   "metadata": {},
   "source": [
    "### Warmup 1\n",
    "Use sympy to determine whether the following formula is satisfiable:\n",
    "$(\\neg x_1 \\land x_2) \\Rightarrow ((x_2 \\lor x_3) \\land (x_1 \\lor \\neg x_3))$.\n",
    "\n",
    "\n",
    "For reference, our solution is **3** lines of code."
   ]
  },
  {
   "cell_type": "code",
   "execution_count": null,
   "metadata": {},
   "outputs": [],
   "source": [
    "def formula1_is_satisfiable():\n",
    "  \"\"\"Determines whether the above formula is satisfiable.\n",
    "\n",
    "  Returns:\n",
    "    is_satisfiable: A bool indicating whether the formula is satisfiable.\n",
    "  \"\"\"\n",
    "  raise NotImplementedError(\"Implement me!\")"
   ]
  },
  {
   "cell_type": "markdown",
   "metadata": {},
   "source": [
    "Tests"
   ]
  },
  {
   "cell_type": "code",
   "execution_count": null,
   "metadata": {},
   "outputs": [],
   "source": [
    "\n",
    "assert formula1_is_satisfiable() == True\n",
    "print('Tests passed.')"
   ]
  },
  {
   "cell_type": "markdown",
   "metadata": {},
   "source": [
    "### Warmup 2\n",
    "Use sympy to determine whether the following formula is satisfiable:\n",
    "$(x_1 \\lor x_2) \\land (\\neg x_1 \\lor \\neg x_2) \\land (x_1 \\lor \\neg x_2) \\land (\\neg x_1 \\lor x_2)$.\n",
    "\n",
    "\n",
    "For reference, our solution is **3** lines of code."
   ]
  },
  {
   "cell_type": "code",
   "execution_count": null,
   "metadata": {},
   "outputs": [],
   "source": [
    "def formula2_is_satisfiable():\n",
    "  \"\"\"Determines whether the above formula is satisfiable.\n",
    "\n",
    "  Returns:\n",
    "    is_satisfiable: A bool indicating whether the formula is satisfiable.\n",
    "  \"\"\"\n",
    "  raise NotImplementedError(\"Implement me!\")"
   ]
  },
  {
   "cell_type": "markdown",
   "metadata": {},
   "source": [
    "Tests"
   ]
  },
  {
   "cell_type": "code",
   "execution_count": null,
   "metadata": {},
   "outputs": [],
   "source": [
    "\n",
    "assert formula2_is_satisfiable() == False\n",
    "print('Tests passed.')"
   ]
  },
  {
   "cell_type": "markdown",
   "metadata": {},
   "source": [
    "### Warmup 3\n",
    "Prove to yourself that the SAT solver is doing something more clever than enumerating truth tables. Write a formula involving 100 variables for which the SAT solver is able to quickly find a solution. (Hint: assume that the SAT solver is like DPLL. What kinds of formulas would be especially easy for DPLL to satisfy?)\n",
    "\n",
    "For reference, our solution is **1** lines of code."
   ]
  },
  {
   "cell_type": "code",
   "execution_count": null,
   "metadata": {},
   "outputs": [],
   "source": [
    "def create_large_solvable_formula():\n",
    "  \"\"\"Return a sympy formula with at least 100 variables that `satisfiable` can\n",
    "  quickly solve.\n",
    "\n",
    "  Returns:\n",
    "    formula: A sympy logical formula.\n",
    "  \"\"\"\n",
    "  raise NotImplementedError(\"Implement me!\")"
   ]
  },
  {
   "cell_type": "markdown",
   "metadata": {},
   "source": [
    "Tests"
   ]
  },
  {
   "cell_type": "code",
   "execution_count": null,
   "metadata": {},
   "outputs": [],
   "source": [
    "def test_large_solvable_formula():\n",
    "  large_formula = create_large_solvable_formula()\n",
    "  assert len(large_formula.free_symbols) >= 100\n",
    "  # TODO(Jiayuan Mao @ 09/21): HACK!!!! Timeout on catsoop.\n",
    "  return True\n",
    "  return satisfiable(large_formula)\n",
    "\n",
    "test_large_solvable_formula()\n",
    "print('Tests passed.')"
   ]
  },
  {
   "cell_type": "markdown",
   "metadata": {},
   "source": [
    "### Search and Rescue Inference\n",
    "Write a program that takes a grid as input and infers unknown values.\n",
    "\n",
    "Your program should output a new grid with all determinable unknown values replaced with the inferred value. If an unknown value cannot be determined, it should be left unknown.\n",
    "\n",
    "**Your program should use sympy.**\n",
    "\n",
    "\n",
    "For reference, our solution is **53** lines of code."
   ]
  },
  {
   "cell_type": "code",
   "execution_count": null,
   "metadata": {},
   "outputs": [],
   "source": [
    "def infer_unknown_values(grid):\n",
    "  \"\"\"Fill in any unknown values in the grid that can be inferred.\n",
    "\n",
    "  Args:\n",
    "    grid: A list of lists of \"F\", \"U\", \"S\", or \"C\".\n",
    "\n",
    "  Returns:\n",
    "    inferred_grid: A copy of grid with some unknown values replaced.\n",
    "\n",
    "  Example:\n",
    "    >> grid = [\n",
    "    >>   [\"F\", \"U\", \"C\"],\n",
    "    >>   [\"S\", \"C\", \"U\"],\n",
    "    >>   [\"U\", \"U\", \"C\"]\n",
    "    >> ]\n",
    "    >> infer_unknown_values(grid)\n",
    "    >> [[\"F\" \"S\" \"C\"]\n",
    "    >>  [\"S\" \"C\" \"C\"]\n",
    "    >>  [\"U\" \"U\" \"C\"]]\n",
    "  \"\"\"\n",
    "  raise NotImplementedError(\"Implement me!\")"
   ]
  },
  {
   "cell_type": "markdown",
   "metadata": {},
   "source": [
    "Tests"
   ]
  },
  {
   "cell_type": "code",
   "execution_count": null,
   "metadata": {},
   "outputs": [],
   "source": [
    "\n",
    "assert infer_unknown_values([[\"U\", \"F\"]]) == [[\"S\", \"F\"]]\n",
    "\n",
    "assert infer_unknown_values([[\"F\", \"U\", \"C\"], [\"S\", \"C\", \"U\"], [\"U\", \"U\", \"C\"]]) == [[\"F\", \"S\", \"C\"], [\"S\", \"C\", \"C\"], [\"U\", \"U\", \"C\"]]\n",
    "\n",
    "assert infer_unknown_values([[\"U\", \"C\", \"C\"], [\"S\", \"C\", \"U\"], [\"U\", \"U\", \"C\"]]) == [[\"C\", \"C\", \"C\"], [\"S\", \"C\", \"C\"], [\"F\", \"S\", \"C\"]]\n",
    "\n",
    "assert infer_unknown_values([[\"U\", \"S\", \"C\", \"U\"], [\"U\", \"U\", \"C\", \"U\"], [\"U\", \"S\", \"C\", \"U\"]]) == [[\"F\", \"S\", \"C\", \"C\"], [\"S\", \"C\", \"C\", \"C\"], [\"F\", \"S\", \"C\", \"C\"]]\n",
    "\n",
    "assert infer_unknown_values([[\"U\", \"U\", \"C\", \"U\", \"U\", \"U\", \"U\", \"U\"], [\"C\", \"U\", \"U\", \"U\", \"U\", \"U\", \"U\", \"U\"], [\"U\", \"U\", \"U\", \"U\", \"U\", \"U\", \"U\", \"U\"], [\"U\", \"U\", \"U\", \"U\", \"U\", \"U\", \"C\", \"C\"], [\"U\", \"U\", \"U\", \"U\", \"U\", \"U\", \"C\", \"C\"], [\"U\", \"C\", \"U\", \"U\", \"U\", \"U\", \"U\", \"U\"], [\"U\", \"U\", \"U\", \"F\", \"U\", \"U\", \"U\", \"U\"], [\"U\", \"U\", \"U\", \"U\", \"U\", \"U\", \"U\", \"U\"]]) == [[\"C\", \"C\", \"C\", \"U\", \"U\", \"U\", \"U\", \"U\"], [\"C\", \"U\", \"U\", \"U\", \"U\", \"U\", \"U\", \"U\"], [\"U\", \"U\", \"U\", \"U\", \"U\", \"U\", \"U\", \"U\"], [\"U\", \"U\", \"U\", \"U\", \"U\", \"U\", \"C\", \"C\"], [\"U\", \"U\", \"U\", \"U\", \"U\", \"U\", \"C\", \"C\"], [\"U\", \"C\", \"U\", \"S\", \"U\", \"U\", \"U\", \"U\"], [\"U\", \"U\", \"S\", \"F\", \"S\", \"U\", \"U\", \"U\"], [\"U\", \"U\", \"U\", \"S\", \"U\", \"U\", \"U\", \"U\"]]\n",
    "print('Tests passed.')"
   ]
  }
 ],
 "metadata": {
  "colab": {
   "collapsed_sections": [],
   "name": "mp01.ipynb",
   "provenance": []
  },
  "kernelspec": {
   "display_name": "Python 3",
   "name": "python3"
  },
  "language_info": {
   "name": "python"
  }
 },
 "nbformat": 4,
 "nbformat_minor": 4
}
