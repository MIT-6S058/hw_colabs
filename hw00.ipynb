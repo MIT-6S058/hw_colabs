{
 "cells": [
  {
   "cell_type": "markdown",
   "id": "e8bf18f0",
   "metadata": {},
   "source": [
    "# Homework 0"
   ]
  },
  {
   "cell_type": "markdown",
   "id": "138be098",
   "metadata": {},
   "source": [
    "## Imports and Utilities\n",
    "**Note**: these imports and functions are available in catsoop. You do not need to copy them in."
   ]
  },
  {
   "cell_type": "code",
   "execution_count": null,
   "id": "ea8eac6c",
   "metadata": {},
   "outputs": [],
   "source": [
    "import numpy as np\n",
    "\n",
    "def grid_successor_fn(state):\n",
    "  \"\"\"Helper for testing BFS.\n",
    "  \"\"\"\n",
    "  obstacles = np.array([\n",
    "    [0, 0, 1, 0, 0],\n",
    "    [0, 1, 0, 0, 0],\n",
    "    [0, 1, 0, 0, 0],\n",
    "    [0, 0, 0, 1, 0],\n",
    "    [0, 0, 1, 1, 0],\n",
    "  ])\n",
    "\n",
    "  act_to_delta = {\n",
    "    \"up\": (-1, 0),\n",
    "    \"down\": (1, 0),\n",
    "    \"left\": (0, -1),\n",
    "    \"right\": (0, 1),\n",
    "  }\n",
    "\n",
    "  r, c = state\n",
    "\n",
    "  for act, (dr, dc) in act_to_delta.items():\n",
    "    new_r, new_c = r + dr, c + dc\n",
    "    # Check if in bounds\n",
    "    if not (0 <= new_r < obstacles.shape[0] and 0 <= new_c < obstacles.shape[1]):\n",
    "      continue\n",
    "    # Check if obstacle\n",
    "    if obstacles[new_r, new_c]:\n",
    "      continue\n",
    "    # Valid action\n",
    "    yield (act, (new_r, new_c))\n",
    "\n",
    "\n",
    "def grid_check_goal_fn(state):\n",
    "  \"\"\"Helper for testing BFS.\n",
    "  \"\"\"\n",
    "  # Bottom right corner of grid\n",
    "  return state == (4, 4)\n",
    "\n"
   ]
  },
  {
   "cell_type": "markdown",
   "id": "3a7a0dc3",
   "metadata": {},
   "source": [
    "## Problems"
   ]
  },
  {
   "cell_type": "markdown",
   "id": "9efaf4c6",
   "metadata": {},
   "source": [
    "### Fibonacci\n",
    "Complete the following implementation of Fibonacci number that returns the n-th Fibonacci number\n",
    "\n",
    "For reference, our solution is **5** lines of code."
   ]
  },
  {
   "cell_type": "code",
   "execution_count": null,
   "id": "c54b01aa",
   "metadata": {},
   "outputs": [],
   "source": [
    "def fib(n):\n",
    "  \"\"\"Compute the Fibonacci number. The first and the second Fibonacci numbers are 1 and 1.\n",
    "\n",
    "  Args:\n",
    "      n: An int.\n",
    "\n",
    "  Returns:\n",
    "      fib_n: An int that is the n-th Fibonacci number.\n",
    "  \"\"\"\n",
    "raise NotImplementedError(\"Implement me!\")"
   ]
  },
  {
   "cell_type": "markdown",
   "id": "ad4a803d",
   "metadata": {},
   "source": [
    "Tests"
   ]
  },
  {
   "cell_type": "code",
   "execution_count": null,
   "id": "6303692e",
   "metadata": {},
   "outputs": [],
   "source": [
    "\n",
    "assert fib(5) == 5\n",
    "print('Tests passed.')"
   ]
  },
  {
   "cell_type": "markdown",
   "id": "cee52783",
   "metadata": {},
   "source": [
    "### Gradient Descent\n",
    "Complete the following implementation of gradient descent to estimate the parameters of a linear model\n",
    "$y = \\theta^T x$, where $x \\in \\mathbb{R}^m$, $y \\in \\mathbb{R}^n$, and $\\theta \\in \\mathbb{R}^{m \\times n}$.\n",
    "Please use the following loss function:\n",
    "\n",
    "$$ \\mathcal{L} = \\frac{1}{2} \\sum_{i=1}^N \\| \\theta^T x_i - y_i \\|_2^2, $$\n",
    "where $(x_i, y_i)$, $i=1\\dots N$ are training samples.\n",
    "\n",
    "\n",
    "For reference, our solution is **6** lines of code."
   ]
  },
  {
   "cell_type": "code",
   "execution_count": null,
   "id": "234dbf50",
   "metadata": {},
   "outputs": [],
   "source": [
    "def run_linear_regression_gradient_descent(X, Y, initial_weights, step_size=0.0001, num_steps=10000):\n",
    "  \"\"\"Use gradient descent to find weights for linear regression model.\n",
    "\n",
    "  The model is Y = np.dot(X, weights).\n",
    "\n",
    "  Args:\n",
    "    X: A np.ndarray of shape (num_examples, input_dim).\n",
    "    Y: A np.ndarray of shape (num_examples, output_dim).\n",
    "    initial_weights: A np.ndarray of shape (input_dim, output_dim).\n",
    "    step_size: A float step size for weight updates.\n",
    "    num_steps: An int total number of gradient descent steps.\n",
    "\n",
    "  Returns:\n",
    "    weights: A np.ndarray of shape (input_dim, output_dim).\n",
    "  \"\"\"\n",
    "raise NotImplementedError(\"Implement me!\")"
   ]
  },
  {
   "cell_type": "markdown",
   "id": "7f608aae",
   "metadata": {},
   "source": [
    "Tests"
   ]
  },
  {
   "cell_type": "code",
   "execution_count": null,
   "id": "bd0868ae",
   "metadata": {},
   "outputs": [],
   "source": [
    "\n",
    "assert np.allclose(run_linear_regression_gradient_descent(np.array([[ 0.21638888, -1.0373239 ],  [-1.04613633,  0.51816111],  [ 1.33705332,  1.1753398 ],  [-3.31087627, -0.61682232],  [ 0.26960529,  0.71786893],  [ 0.68125215,  0.69346381],  [ 0.82319865,  2.15040934],  [-1.99224684,  1.18660912],  [ 0.85398102,  1.58943012],  [-0.49008305, -0.94271083]], dtype=np.float64), np.array([[-1.46818804,  0.81780197, -0.52365992],  [ 1.02613281, -1.60985177,  1.28878709],  [ 1.16974355,  1.09973755, -1.13929496],  [ 0.20039543, -3.91870193,  3.4551015 ],  [ 0.8851706 , -0.02888791, -0.09682235],  [ 0.72374965,  0.51102415, -0.5543425 ],  [ 2.64670582, -0.0665773 , -0.30710068],  [ 2.22397572, -3.16993428,  2.50957799],  [ 1.87963144,  0.26523955, -0.4958563 ],  [-1.11995841, -0.13628318,  0.2761137 ]], dtype=np.float64), np.array([[-0.07543102,  1.3510154 ,  0.17774754],  [-0.35876004, -1.66785908, -1.28661368]], dtype=np.float64)), np.array([[-0.31207039,  1.28069667, -1.09503792],  [ 1.35023732, -0.5212357 ,  0.27635938]], dtype=np.float64), atol=1e-6)\n",
    "print('Tests passed.')"
   ]
  },
  {
   "cell_type": "markdown",
   "id": "6901d3ed",
   "metadata": {},
   "source": [
    "### Breadth-first search\n",
    "Complete the following implementation of breadth-first search. Note that the expected output is a list of _actions_.\n",
    "\n",
    "For reference, our solution is **18** lines of code."
   ]
  },
  {
   "cell_type": "code",
   "execution_count": null,
   "id": "98711972",
   "metadata": {},
   "outputs": [],
   "source": [
    "def breadth_first_search(initial_state, check_goal_fn, successor_fn, max_expansions=1000):\n",
    "  \"\"\"Finds a plan from initial state to goal using BFS.\n",
    "\n",
    "  Args:\n",
    "    initial_state: Any state representation.\n",
    "    check_goal_fn: A function that takes a state and returns a bool\n",
    "      indicating whether the goal is reached.\n",
    "    successor_fn: A function that takes a state and yields zero or\n",
    "      more (action, next state).\n",
    "    max_expansions: An int bounding the number of times that thhe\n",
    "      successor_fn is called before giving up.\n",
    "\n",
    "  Returns:\n",
    "    plan: A list of actions or None.\n",
    "  \"\"\"\n",
    "raise NotImplementedError(\"Implement me!\")"
   ]
  },
  {
   "cell_type": "markdown",
   "id": "0cabbe9c",
   "metadata": {},
   "source": [
    "Tests"
   ]
  },
  {
   "cell_type": "code",
   "execution_count": null,
   "id": "29c41c43",
   "metadata": {},
   "outputs": [],
   "source": [
    "\n",
    "assert breadth_first_search((0, 0), grid_check_goal_fn, grid_successor_fn) == [\"down\", \"down\", \"down\", \"right\", \"right\", \"up\", \"right\", \"right\", \"down\", \"down\"]\n",
    "print('Tests passed.')"
   ]
  }
 ],
 "metadata": {
  "colab": {
   "collapsed_sections": [],
   "name": "hw00.ipynb",
   "provenance": []
  },
  "kernelspec": {
   "display_name": "Python 3",
   "name": "python3"
  },
  "language_info": {
   "name": "python"
  }
 },
 "nbformat": 4,
 "nbformat_minor": 5
}
