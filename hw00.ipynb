{
 "cells": [
  {
   "cell_type": "markdown",
   "id": "e72bfc3f",
   "metadata": {},
   "source": [
    "# Homework 0"
   ]
  },
  {
   "cell_type": "markdown",
   "id": "dfcdabc9",
   "metadata": {},
   "source": [
    "## Imports and Utilities\n",
    "**Note**: these imports and functions are available in catsoop. You do not need to copy them in."
   ]
  },
  {
   "cell_type": "code",
   "execution_count": null,
   "id": "38ad7374",
   "metadata": {},
   "outputs": [],
   "source": [
    "import numpy as np\n",
    "\n",
    "def grid_successor_fn(state):\n",
    "  \"\"\"Helper for testing BFS.\n",
    "  \"\"\"\n",
    "  obstacles = np.array([\n",
    "    [0, 0, 1, 0, 0],\n",
    "    [0, 1, 0, 0, 0],\n",
    "    [0, 1, 0, 0, 0],\n",
    "    [0, 0, 0, 1, 0],\n",
    "    [0, 0, 1, 1, 0],\n",
    "  ])\n",
    "\n",
    "  act_to_delta = {\n",
    "    \"up\": (-1, 0),\n",
    "    \"down\": (1, 0),\n",
    "    \"left\": (0, -1),\n",
    "    \"right\": (0, 1),\n",
    "  }\n",
    "\n",
    "  r, c = state\n",
    "\n",
    "  for act, (dr, dc) in act_to_delta.items():\n",
    "    new_r, new_c = r + dr, c + dc\n",
    "    # Check if in bounds\n",
    "    if not (0 <= new_r < obstacles.shape[0] and 0 <= new_c < obstacles.shape[1]):\n",
    "      continue\n",
    "    # Check if obstacle\n",
    "    if obstacles[new_r, new_c]:\n",
    "      continue\n",
    "    # Valid action\n",
    "    yield (act, (new_r, new_c))\n",
    "\n",
    "\n",
    "def grid_check_goal_fn(state):\n",
    "  \"\"\"Helper for testing BFS.\n",
    "  \"\"\"\n",
    "  # Bottom right corner of grid\n",
    "  return state == (4, 4)\n",
    "\n"
   ]
  },
  {
   "cell_type": "markdown",
   "id": "7cd426d0",
   "metadata": {},
   "source": [
    "## Problems"
   ]
  },
  {
   "cell_type": "markdown",
   "id": "d4768e81",
   "metadata": {},
   "source": [
    "### Fibonacci\n",
    "Complete the following implementation of Fibonacci number that returns the n-th Fibonacci number\n",
    "\n",
    "For reference, our solution is **5** lines of code."
   ]
  },
  {
   "cell_type": "code",
   "execution_count": null,
   "id": "63080bf1",
   "metadata": {},
   "outputs": [],
   "source": [
    "def fib(n):\n",
    "  \"\"\"Compute the Fibonacci number. The first and the second Fibonacci numbers are 1 and 1.\n",
    "\n",
    "  Args:\n",
    "      n: An int.\n",
    "\n",
    "  Returns:\n",
    "      fib_n: An int that is the n-th Fibonacci number.\n",
    "  \"\"\"\n",
    "  raise NotImplementedError(\"Implement me!\")"
   ]
  },
  {
   "cell_type": "markdown",
   "id": "97daabc3",
   "metadata": {},
   "source": [
    "Tests"
   ]
  },
  {
   "cell_type": "code",
   "execution_count": null,
   "id": "62961d3a",
   "metadata": {},
   "outputs": [],
   "source": [
    "\n",
    "assert fib(5) == 5\n",
    "print('Tests passed.')"
   ]
  },
  {
   "cell_type": "markdown",
   "id": "3631c870",
   "metadata": {},
   "source": [
    "### Gradient Descent\n",
    "Complete the following implementation of gradient descent to estimate the parameters of a linear model\n",
    "$y = \\theta^T x$, where $x \\in \\mathbb{R}^m$, $y \\in \\mathbb{R}^n$, and $\\theta \\in \\mathbb{R}^{m \\times n}$.\n",
    "Please use the following loss function:\n",
    "\n",
    "$$ \\mathcal{L} = \\frac{1}{2} \\sum_{i=1}^N \\| \\theta^T x_i - y_i \\|_2^2, $$\n",
    "where $(x_i, y_i)$, $i=1\\dots N$ are training samples.\n",
    "\n",
    "\n",
    "For reference, our solution is **6** lines of code."
   ]
  },
  {
   "cell_type": "code",
   "execution_count": null,
   "id": "a618859e",
   "metadata": {},
   "outputs": [],
   "source": [
    "def run_linear_regression_gradient_descent(X, Y, initial_weights, step_size=0.0001, num_steps=10000):\n",
    "  \"\"\"Use gradient descent to find weights for linear regression model.\n",
    "\n",
    "  The model is Y = np.dot(X, weights).\n",
    "\n",
    "  Args:\n",
    "    X: A np.ndarray of shape (num_examples, input_dim).\n",
    "    Y: A np.ndarray of shape (num_examples, output_dim).\n",
    "    initial_weights: A np.ndarray of shape (input_dim, output_dim).\n",
    "    step_size: A float step size for weight updates.\n",
    "    num_steps: An int total number of gradient descent steps.\n",
    "\n",
    "  Returns:\n",
    "    weights: A np.ndarray of shape (input_dim, output_dim).\n",
    "  \"\"\"\n",
    "  raise NotImplementedError(\"Implement me!\")"
   ]
  },
  {
   "cell_type": "markdown",
   "id": "813cbaa5",
   "metadata": {},
   "source": [
    "Tests"
   ]
  },
  {
   "cell_type": "code",
   "execution_count": null,
   "id": "ebc7d2f3",
   "metadata": {},
   "outputs": [],
   "source": [
    "\n",
    "assert np.allclose(run_linear_regression_gradient_descent(np.array([[-1.87841385,  1.21060815],  [-2.56781002,  0.5925094 ],  [-0.02694943, -0.72338465],  [ 0.33570535,  0.25806187],  [ 2.17643388, -0.82499625],  [-0.16533197,  0.30381845],  [ 1.19396383,  1.02047559],  [-1.85803923, -1.35687921],  [ 1.56536855,  0.53314688],  [ 0.23992556, -2.03490484]], dtype=np.float64), np.array([[ 1.67097035, -2.06701706, -0.33905247],  [ 1.97012064, -3.43849719,  0.83033906],  [-0.19503907, -0.45697072,  0.89724701],  [-0.15836414,  0.64308811, -0.51716668],  [-1.76528021,  2.72820463, -0.31067247],  [ 0.20539704, -0.06813695, -0.27007705],  [-0.53288335,  2.34641552, -1.96436512],  [ 0.89762049, -3.51811836,  2.77539669],  [-0.93658534,  2.61206918, -1.59534855],  [-0.76935504, -0.82065252,  2.33316359]], dtype=np.float64), np.array([[-0.79665632, -0.4048999 , -0.51460205],  [ 0.03027233,  0.38179639, -0.31715   ]], dtype=np.float64)), np.array([[-0.69901631,  1.47218507, -0.60436932],  [ 0.29565268,  0.57685247, -1.21780029]], dtype=np.float64), atol=1e-6)\n",
    "print('Tests passed.')"
   ]
  },
  {
   "cell_type": "markdown",
   "id": "67325f9e",
   "metadata": {},
   "source": [
    "### Breadth-first search\n",
    "Complete the following implementation of breadth-first search. Note that the expected output is a list of _actions_.\n",
    "\n",
    "For reference, our solution is **18** lines of code."
   ]
  },
  {
   "cell_type": "code",
   "execution_count": null,
   "id": "64485f2b",
   "metadata": {},
   "outputs": [],
   "source": [
    "def breadth_first_search(initial_state, check_goal_fn, successor_fn, max_expansions=1000):\n",
    "  \"\"\"Finds a plan from initial state to goal using BFS.\n",
    "\n",
    "  Args:\n",
    "    initial_state: Any state representation.\n",
    "    check_goal_fn: A function that takes a state and returns a bool\n",
    "      indicating whether the goal is reached.\n",
    "    successor_fn: A function that takes a state and yields zero or\n",
    "      more (action, next state).\n",
    "    max_expansions: An int bounding the number of times that thhe\n",
    "      successor_fn is called before giving up.\n",
    "\n",
    "  Returns:\n",
    "    plan: A list of actions or None.\n",
    "  \"\"\"\n",
    "  raise NotImplementedError(\"Implement me!\")"
   ]
  },
  {
   "cell_type": "markdown",
   "id": "84526781",
   "metadata": {},
   "source": [
    "Tests"
   ]
  },
  {
   "cell_type": "code",
   "execution_count": null,
   "id": "8051d581",
   "metadata": {},
   "outputs": [],
   "source": [
    "\n",
    "assert breadth_first_search(tuple(0, 0), grid_check_goal_fn, grid_successor_fn) == [\"down\", \"down\", \"down\", \"right\", \"right\", \"up\", \"right\", \"right\", \"down\", \"down\"]\n",
    "print('Tests passed.')"
   ]
  }
 ],
 "metadata": {
  "colab": {
   "collapsed_sections": [],
   "name": "hw00.ipynb",
   "provenance": []
  },
  "kernelspec": {
   "display_name": "Python 3",
   "name": "python3"
  },
  "language_info": {
   "name": "python"
  }
 },
 "nbformat": 4,
 "nbformat_minor": 5
}
