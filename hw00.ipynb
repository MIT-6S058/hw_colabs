{
 "cells": [
  {
   "cell_type": "markdown",
   "metadata": {},
   "source": [
    "# Homework 0"
   ]
  },
  {
   "cell_type": "markdown",
   "metadata": {},
   "source": [
    "## Imports and Utilities\n",
    "**Note**: these imports and functions are available in catsoop. You do not need to copy them in."
   ]
  },
  {
   "cell_type": "code",
   "execution_count": null,
   "metadata": {},
   "outputs": [],
   "source": [
    "import numpy as np\n",
    "\n",
    "def grid_successor_fn(state):\n",
    "  \"\"\"Helper for testing BFS.\n",
    "  \"\"\"\n",
    "  obstacles = np.array([\n",
    "    [0, 0, 1, 0, 0],\n",
    "    [0, 1, 0, 0, 0],\n",
    "    [0, 1, 0, 0, 0],\n",
    "    [0, 0, 0, 1, 0],\n",
    "    [0, 0, 1, 1, 0],\n",
    "  ])\n",
    "\n",
    "  act_to_delta = {\n",
    "    \"up\": (-1, 0),\n",
    "    \"down\": (1, 0),\n",
    "    \"left\": (0, -1),\n",
    "    \"right\": (0, 1),\n",
    "  }\n",
    "\n",
    "  r, c = state\n",
    "\n",
    "  for act, (dr, dc) in act_to_delta.items():\n",
    "    new_r, new_c = r + dr, c + dc\n",
    "    # Check if in bounds\n",
    "    if not (0 <= new_r < obstacles.shape[0] and 0 <= new_c < obstacles.shape[1]):\n",
    "      continue\n",
    "    # Check if obstacle\n",
    "    if obstacles[new_r, new_c]:\n",
    "      continue\n",
    "    # Valid action\n",
    "    yield (act, (new_r, new_c))\n",
    "\n",
    "\n",
    "def grid_check_goal_fn(state):\n",
    "  \"\"\"Helper for testing BFS.\n",
    "  \"\"\"\n",
    "  # Bottom right corner of grid\n",
    "  return state == (4, 4)\n",
    "\n"
   ]
  },
  {
   "cell_type": "markdown",
   "metadata": {},
   "source": [
    "## Problems"
   ]
  },
  {
   "cell_type": "markdown",
   "metadata": {},
   "source": [
    "### Fibonacci\n",
    "Complete the following implementation of Fibonacci number that returns the n-th Fibonacci number\n",
    "\n",
    "For reference, our solution is **5** lines of code."
   ]
  },
  {
   "cell_type": "code",
   "execution_count": null,
   "metadata": {},
   "outputs": [],
   "source": [
    "def fib(n):\n",
    "  \"\"\"Compute the Fibonacci number. The first and the second Fibonacci numbers are 1 and 1.\n",
    "\n",
    "  Args:\n",
    "      n: An int.\n",
    "\n",
    "  Returns:\n",
    "      fib_n: An int that is the n-th Fibonacci number.\n",
    "  \"\"\"\n",
    "  raise NotImplementedError(\"Implement me!\")"
   ]
  },
  {
   "cell_type": "markdown",
   "metadata": {},
   "source": [
    "Tests"
   ]
  },
  {
   "cell_type": "code",
   "execution_count": null,
   "metadata": {},
   "outputs": [],
   "source": [
    "assert fib(5) == 5\n",
    "print('Tests passed.')"
   ]
  },
  {
   "cell_type": "markdown",
   "metadata": {},
   "source": [
    "### Gradient Descent\n",
    "Complete the following implementation of gradient descent to estimate the parameters of a linear model $y = \\theta^T x$, where $x \\in \\mathbb{R}^m$, $y \\in \\mathbb{R}^n$, and $\\theta \\in \\mathbb{R}^{m \\times n}$.\n",
    "\n",
    "For reference, our solution is **6** lines of code."
   ]
  },
  {
   "cell_type": "code",
   "execution_count": null,
   "metadata": {},
   "outputs": [],
   "source": [
    "def run_linear_regression_gradient_descent(X, Y, initial_weights, step_size=0.0001, num_steps=10000):\n",
    "  \"\"\"Use gradient descent to find weights for linear regression model.\n",
    "\n",
    "  The model is Y = np.dot(X, weights).\n",
    "\n",
    "  Args:\n",
    "    X: A np.ndarray of shape (num_examples, input_dim).\n",
    "    Y: A np.ndarray of shape (num_examples, output_dim).\n",
    "    initial_weights: A np.ndarray of shape (input_dim, output_dim).\n",
    "    step_size: A float step size for weight updates.\n",
    "    num_steps: An int total number of gradient descent steps.\n",
    "\n",
    "  Returns:\n",
    "    weights: A np.ndarray of shape (input_dim, output_dim).\n",
    "  \"\"\"\n",
    "  raise NotImplementedError(\"Implement me!\")"
   ]
  },
  {
   "cell_type": "markdown",
   "metadata": {},
   "source": [
    "Tests"
   ]
  },
  {
   "cell_type": "code",
   "execution_count": null,
   "metadata": {},
   "outputs": [],
   "source": [
    "assert np.allclose(run_linear_regression_gradient_descent(np.array([[-1.02732497, -0.6957843 ],  [ 0.9105737 , -0.42911971],  [-1.6307746 , -0.28564799],  [ 0.07206203,  0.85851211],  [ 0.46518059, -0.6588115 ],  [ 0.55025618,  0.29639848],  [ 0.58657796,  0.97912041],  [-0.04856479, -0.03007647],  [ 0.31993605, -0.57831961],  [ 0.71767839, -0.24204312]], dtype=np.float64), np.array([[ 0.2480067 ,  1.83447487, -0.34193098],  [-0.53351222, -2.17484256,  0.43895966],  [ 0.6392913 ,  3.34176734, -0.64917496],  [ 0.22546978,  0.29625097, -0.08122252],  [-0.40440493, -1.34174654,  0.28136634],  [-0.15571648, -1.02261239,  0.19305618],  [ 0.03291466, -0.74209151,  0.11963376],  [ 0.01256849,  0.08819872, -0.01652993],  [-0.31569264, -0.98851956,  0.20978355],  [-0.39164711, -1.66365461,  0.33347483]], dtype=np.float64), np.array([[-0.14120457,  0.96446869,  0.21436376],  [-0.2483442 , -0.58646311,  0.98585172]], dtype=np.float64)), np.array([[-0.43585894, -2.10914988,  0.40550442],  [ 0.27288402,  0.43837905, -0.08007339]], dtype=np.float64), atol=1e-6)\n",
    "print('Tests passed.')"
   ]
  },
  {
   "cell_type": "markdown",
   "metadata": {},
   "source": [
    "### Breadth-first search\n",
    "Complete the following implementation of breadth-first search. Note that the expected output is a list of _actions_.\n",
    "\n",
    "For reference, our solution is **18** lines of code."
   ]
  },
  {
   "cell_type": "code",
   "execution_count": null,
   "metadata": {},
   "outputs": [],
   "source": [
    "def breadth_first_search(initial_state, check_goal_fn, successor_fn, max_expansions=1000):\n",
    "  \"\"\"Finds a plan from initial state to goal using BFS.\n",
    "\n",
    "  Args:\n",
    "    initial_state: Any state representation.\n",
    "    check_goal_fn: A function that takes a state and returns a bool\n",
    "      indicating whether the goal is reached.\n",
    "    successor_fn: A function that takes a state and yields zero or\n",
    "      more (action, next state).\n",
    "    max_expansions: An int bounding the number of times that thhe\n",
    "      successor_fn is called before giving up.\n",
    "\n",
    "  Returns:\n",
    "    plan: A list of actions or None.\n",
    "  \"\"\"\n",
    "  raise NotImplementedError(\"Implement me!\")"
   ]
  },
  {
   "cell_type": "markdown",
   "metadata": {},
   "source": [
    "Tests"
   ]
  },
  {
   "cell_type": "code",
   "execution_count": null,
   "metadata": {},
   "outputs": [],
   "source": [
    "assert breadth_first_search((0, 0), grid_check_goal_fn, grid_successor_fn) == [\"down\", \"down\", \"down\", \"right\", \"right\", \"up\", \"right\", \"right\", \"down\", \"down\"]\n",
    "print('Tests passed.')"
   ]
  }
 ],
 "metadata": {
  "colab": {
   "collapsed_sections": [],
   "name": "hw00.ipynb",
   "provenance": []
  },
  "kernelspec": {
   "display_name": "Python 3",
   "name": "python3"
  },
  "language_info": {
   "name": "python"
  }
 },
 "nbformat": 4,
 "nbformat_minor": 4
}
