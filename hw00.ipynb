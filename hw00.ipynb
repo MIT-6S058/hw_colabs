{
 "cells": [
  {
   "cell_type": "markdown",
   "id": "e7e5b516",
   "metadata": {},
   "source": [
    "# Homework 0"
   ]
  },
  {
   "cell_type": "markdown",
   "id": "8b978839",
   "metadata": {},
   "source": [
    "## Imports and Utilities\n",
    "**Note**: these imports and functions are available in catsoop. You do not need to copy them in."
   ]
  },
  {
   "cell_type": "code",
   "execution_count": null,
   "id": "ea20be03",
   "metadata": {},
   "outputs": [],
   "source": [
    "import numpy as np\n",
    "\n",
    "def grid_successor_fn(state):\n",
    "  \"\"\"Helper for testing BFS.\n",
    "  \"\"\"\n",
    "  obstacles = np.array([\n",
    "    [0, 0, 1, 0, 0],\n",
    "    [0, 1, 0, 0, 0],\n",
    "    [0, 1, 0, 0, 0],\n",
    "    [0, 0, 0, 1, 0],\n",
    "    [0, 0, 1, 1, 0],\n",
    "  ])\n",
    "\n",
    "  act_to_delta = {\n",
    "    \"up\": (-1, 0),\n",
    "    \"down\": (1, 0),\n",
    "    \"left\": (0, -1),\n",
    "    \"right\": (0, 1),\n",
    "  }\n",
    "\n",
    "  r, c = state\n",
    "\n",
    "  for act, (dr, dc) in act_to_delta.items():\n",
    "    new_r, new_c = r + dr, c + dc\n",
    "    # Check if in bounds\n",
    "    if not (0 <= new_r < obstacles.shape[0] and 0 <= new_c < obstacles.shape[1]):\n",
    "      continue\n",
    "    # Check if obstacle\n",
    "    if obstacles[new_r, new_c]:\n",
    "      continue\n",
    "    # Valid action\n",
    "    yield (act, (new_r, new_c))\n",
    "\n",
    "\n",
    "def grid_check_goal_fn(state):\n",
    "  \"\"\"Helper for testing BFS.\n",
    "  \"\"\"\n",
    "  # Bottom right corner of grid\n",
    "  return state == (4, 4)\n",
    "\n"
   ]
  },
  {
   "cell_type": "markdown",
   "id": "9498b510",
   "metadata": {},
   "source": [
    "## Problems"
   ]
  },
  {
   "cell_type": "markdown",
   "id": "0f9963d4",
   "metadata": {},
   "source": [
    "### Fibonacci\n",
    "Complete the following implementation of Fibonacci number that returns the n-th Fibonacci number\n",
    "\n",
    "For reference, our solution is **5** lines of code."
   ]
  },
  {
   "cell_type": "code",
   "execution_count": null,
   "id": "cd8ab4ea",
   "metadata": {},
   "outputs": [],
   "source": [
    "def fib(n):\n",
    "  \"\"\"Compute the Fibonacci number. The first and the second Fibonacci numbers are 1 and 1.\n",
    "\n",
    "  Args:\n",
    "      n: An int.\n",
    "\n",
    "  Returns:\n",
    "      fib_n: An int that is the n-th Fibonacci number.\n",
    "  \"\"\"\n",
    "  raise NotImplementedError(\"Implement me!\")"
   ]
  },
  {
   "cell_type": "markdown",
   "id": "8ceb5c8e",
   "metadata": {},
   "source": [
    "Tests"
   ]
  },
  {
   "cell_type": "code",
   "execution_count": null,
   "id": "5ca1d817",
   "metadata": {},
   "outputs": [],
   "source": [
    "assert fib(5) == 5\n",
    "print('Tests passed.')"
   ]
  },
  {
   "cell_type": "markdown",
   "id": "5afee468",
   "metadata": {},
   "source": [
    "### Gradient Descent\n",
    "Complete the following implementation of gradient descent to estimate the parameters of a linear model $y = \\theta^T x$, where $x \\in \\mathbb{R}^m$, $y \\in \\mathbb{R}^n$, and $\\theta \\in \\mathbb{R}^{m \\times n}$.\n",
    "\n",
    "For reference, our solution is **6** lines of code."
   ]
  },
  {
   "cell_type": "code",
   "execution_count": null,
   "id": "c4c15734",
   "metadata": {},
   "outputs": [],
   "source": [
    "def run_linear_regression_gradient_descent(X, Y, initial_weights, step_size=0.0001, num_steps=10000):\n",
    "  \"\"\"Use gradient descent to find weights for linear regression model.\n",
    "\n",
    "  The model is Y = np.dot(X, weights).\n",
    "\n",
    "  Args:\n",
    "    X: A np.ndarray of shape (num_examples, input_dim).\n",
    "    Y: A np.ndarray of shape (num_examples, output_dim).\n",
    "    initial_weights: A np.ndarray of shape (input_dim, output_dim).\n",
    "    step_size: A float step size for weight updates.\n",
    "    num_steps: An int total number of gradient descent steps.\n",
    "\n",
    "  Returns:\n",
    "    weights: A np.ndarray of shape (input_dim, output_dim).\n",
    "  \"\"\"\n",
    "  raise NotImplementedError(\"Implement me!\")"
   ]
  },
  {
   "cell_type": "markdown",
   "id": "41689061",
   "metadata": {},
   "source": [
    "Tests"
   ]
  },
  {
   "cell_type": "code",
   "execution_count": null,
   "id": "790bddae",
   "metadata": {},
   "outputs": [],
   "source": [
    "assert np.allclose(run_linear_regression_gradient_descent(np.array([[ 2.45285578e+00, -3.26130592e-01],  [ 4.23032348e-01, -2.17969545e+00],  [-7.75402219e-01, -9.34257669e-01],  [ 1.66560225e+00, -1.45262202e+00],  [-1.38272880e+00,  1.08869712e+00],  [ 1.92331343e+00,  1.31794743e+00],  [ 5.68460540e-01, -5.90624399e-01],  [-5.19712645e-01, -1.46176063e-03],  [ 4.60951725e-01, -7.53536741e-01],  [ 1.05209151e+00,  4.93020801e-01]], dtype=np.float64), np.array([[ 1.35911118, -1.15835046, -0.1741608 ],  [ 0.33270321,  3.43651526, -2.03622962],  [-0.38162154,  2.14259354, -0.92501623],  [ 0.9798952 ,  1.32172796, -1.28144295],  [-0.80805037, -0.89651857,  0.95306281],  [ 0.99284316, -3.60310052,  1.35021107],  [ 0.33882379,  0.61352842, -0.52696421],  [-0.28470269,  0.36626648, -0.02976477],  [ 0.28745754,  0.96775569, -0.68675209],  [ 0.55365694, -1.58066316,  0.52325553]], dtype=np.float64), np.array([[-1.12645485, -0.10283687, -0.97300371],  [-0.98307399, -0.27302541, -0.82917726]], dtype=np.float64)), np.array([[ 0.54792738, -0.69992046,  0.05459978],  [-0.04632051, -1.71241807,  0.94474493]], dtype=np.float64), atol=1e-6)\n",
    "print('Tests passed.')"
   ]
  },
  {
   "cell_type": "markdown",
   "id": "1fda126d",
   "metadata": {},
   "source": [
    "### Breadth-first search\n",
    "Complete the following implementation of breadth-first search. Note that the expected output is a list of _actions_.\n",
    "\n",
    "For reference, our solution is **18** lines of code."
   ]
  },
  {
   "cell_type": "code",
   "execution_count": null,
   "id": "266c5a14",
   "metadata": {},
   "outputs": [],
   "source": [
    "def breadth_first_search(initial_state, check_goal_fn=<function grid_check_goal_fn at 0x7f8457424d08>, successor_fn=<function grid_successor_fn at 0x7f8453f87bf8>, max_expansions=1000):\n",
    "  \"\"\"Finds a plan from initial state to goal using BFS.\n",
    "\n",
    "  Args:\n",
    "    initial_state: Any state representation.\n",
    "    check_goal_fn: A function that takes a state and returns a bool\n",
    "      indicating whether the goal is reached.\n",
    "    successor_fn: A function that takes a state and yields zero or\n",
    "      more (action, next state).\n",
    "    max_expansions: An int bounding the number of times that thhe\n",
    "      successor_fn is called before giving up.\n",
    "\n",
    "  Returns:\n",
    "    plan: A list of actions or None.\n",
    "  \"\"\"\n",
    "  raise NotImplementedError(\"Implement me!\")"
   ]
  },
  {
   "cell_type": "markdown",
   "id": "8394dd34",
   "metadata": {},
   "source": [
    "Tests"
   ]
  },
  {
   "cell_type": "code",
   "execution_count": null,
   "id": "e93e38f8",
   "metadata": {},
   "outputs": [],
   "source": [
    "assert breadth_first_search((0, 0)) == [\"down\", \"down\", \"down\", \"right\", \"right\", \"up\", \"right\", \"right\", \"down\", \"down\"]\n",
    "print('Tests passed.')"
   ]
  }
 ],
 "metadata": {
  "colab": {
   "collapsed_sections": [],
   "name": "hw00.ipynb",
   "provenance": []
  },
  "kernelspec": {
   "display_name": "Python 3",
   "name": "python3"
  },
  "language_info": {
   "name": "python"
  }
 },
 "nbformat": 4,
 "nbformat_minor": 5
}
