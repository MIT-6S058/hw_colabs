{
 "cells": [
  {
   "cell_type": "markdown",
   "id": "d7bf5045",
   "metadata": {},
   "source": [
    "# Homework 0"
   ]
  },
  {
   "cell_type": "markdown",
   "id": "eefc7e0b",
   "metadata": {},
   "source": [
    "## Imports and Utilities\n",
    "**Note**: these imports and functions are available in catsoop. You do not need to copy them in."
   ]
  },
  {
   "cell_type": "code",
   "execution_count": null,
   "id": "9d243d9d",
   "metadata": {},
   "outputs": [],
   "source": [
    "import numpy as np\n",
    "\n",
    "def grid_successor_fn(state):\n",
    "  \"\"\"Helper for testing BFS.\n",
    "  \"\"\"\n",
    "  obstacles = np.array([\n",
    "    [0, 0, 1, 0, 0],\n",
    "    [0, 1, 0, 0, 0],\n",
    "    [0, 1, 0, 0, 0],\n",
    "    [0, 0, 0, 1, 0],\n",
    "    [0, 0, 1, 1, 0],\n",
    "  ])\n",
    "\n",
    "  act_to_delta = {\n",
    "    \"up\": (-1, 0),\n",
    "    \"down\": (1, 0),\n",
    "    \"left\": (0, -1),\n",
    "    \"right\": (0, 1),\n",
    "  }\n",
    "\n",
    "  r, c = state\n",
    "\n",
    "  for act, (dr, dc) in act_to_delta.items():\n",
    "    new_r, new_c = r + dr, c + dc\n",
    "    # Check if in bounds\n",
    "    if not (0 <= new_r < obstacles.shape[0] and 0 <= new_c < obstacles.shape[1]):\n",
    "      continue\n",
    "    # Check if obstacle\n",
    "    if obstacles[new_r, new_c]:\n",
    "      continue\n",
    "    # Valid action\n",
    "    yield (act, (new_r, new_c))\n",
    "\n",
    "\n",
    "def grid_check_goal_fn(state):\n",
    "  \"\"\"Helper for testing BFS.\n",
    "  \"\"\"\n",
    "  # Bottom right corner of grid\n",
    "  return state == (4, 4)\n",
    "\n"
   ]
  },
  {
   "cell_type": "markdown",
   "id": "36652525",
   "metadata": {},
   "source": [
    "## Problems"
   ]
  },
  {
   "cell_type": "markdown",
   "id": "de7204f4",
   "metadata": {},
   "source": [
    "### Fibonacci\n",
    "Complete the following implementation of Fibonacci number that returns the n-th Fibonacci number\n",
    "\n",
    "For reference, our solution is **5** lines of code."
   ]
  },
  {
   "cell_type": "code",
   "execution_count": null,
   "id": "b90421e1",
   "metadata": {},
   "outputs": [],
   "source": [
    "def fib(n):\n",
    "  \"\"\"Compute the Fibonacci number. The first and the second Fibonacci numbers are 1 and 1.\n",
    "\n",
    "  Args:\n",
    "      n: An int.\n",
    "\n",
    "  Returns:\n",
    "      fib_n: An int that is the n-th Fibonacci number.\n",
    "  \"\"\"\n",
    "  raise NotImplementedError(\"Implement me!\")"
   ]
  },
  {
   "cell_type": "markdown",
   "id": "d7a0a036",
   "metadata": {},
   "source": [
    "Tests"
   ]
  },
  {
   "cell_type": "code",
   "execution_count": null,
   "id": "1b7ce5fd",
   "metadata": {},
   "outputs": [],
   "source": [
    "\n",
    "assert fib(5) == 5\n",
    "print('Tests passed.')"
   ]
  },
  {
   "cell_type": "markdown",
   "id": "94897702",
   "metadata": {},
   "source": [
    "### Gradient Descent\n",
    "Complete the following implementation of gradient descent to estimate the parameters of a linear model\n",
    "$y = \\theta^T x$, where $x \\in \\mathbb{R}^m$, $y \\in \\mathbb{R}^n$, and $\\theta \\in \\mathbb{R}^{m \\times n}$.\n",
    "Please use the following loss function:\n",
    "\n",
    "$$ \\mathcal{L} = \\frac{1}{2} \\sum_{i=1}^N \\| \\theta^T x_i - y_i \\|_2^2, $$\n",
    "where $(x_i, y_i)$, $i=1\\dots N$ are training samples.\n",
    "\n",
    "\n",
    "For reference, our solution is **6** lines of code."
   ]
  },
  {
   "cell_type": "code",
   "execution_count": null,
   "id": "23834f9a",
   "metadata": {},
   "outputs": [],
   "source": [
    "def run_linear_regression_gradient_descent(X, Y, initial_weights, step_size=0.0001, num_steps=10000):\n",
    "  \"\"\"Use gradient descent to find weights for linear regression model.\n",
    "\n",
    "  The model is Y = np.dot(X, weights).\n",
    "\n",
    "  Args:\n",
    "    X: A np.ndarray of shape (num_examples, input_dim).\n",
    "    Y: A np.ndarray of shape (num_examples, output_dim).\n",
    "    initial_weights: A np.ndarray of shape (input_dim, output_dim).\n",
    "    step_size: A float step size for weight updates.\n",
    "    num_steps: An int total number of gradient descent steps.\n",
    "\n",
    "  Returns:\n",
    "    weights: A np.ndarray of shape (input_dim, output_dim).\n",
    "  \"\"\"\n",
    "  raise NotImplementedError(\"Implement me!\")"
   ]
  },
  {
   "cell_type": "markdown",
   "id": "9282a812",
   "metadata": {},
   "source": [
    "Tests"
   ]
  },
  {
   "cell_type": "code",
   "execution_count": null,
   "id": "4686b092",
   "metadata": {},
   "outputs": [],
   "source": [
    "\n",
    "assert np.allclose(run_linear_regression_gradient_descent(np.array([[-0.5714209 ,  2.14031102],  [ 1.04963051,  0.89792953],  [ 1.04179486,  0.29579491],  [-1.19125773, -0.73386942],  [-0.31574894, -0.93389297],  [-1.98088485,  0.11769806],  [ 1.0486635 ,  0.52451903],  [-0.26479541,  0.49043219],  [ 0.08756175,  0.93573601],  [-0.75451643, -0.07614285]], dtype=np.float64), np.array([[-0.80167586, -0.57914055,  1.62822331],  [ 1.34104171,  0.67764282,  0.19978367],  [ 1.34724841,  0.72019571, -0.19508878],  [-1.52975769, -0.79188402, -0.03830673],  [-0.38533164, -0.15077118, -0.4986344 ],  [-2.5802036 , -1.42377526,  0.82028135],  [ 1.34995429,  0.70681084, -0.0465533 ],  [-0.35783893, -0.22828125,  0.42326856],  [ 0.08842526, -0.01230325,  0.58538657],  [-0.97950118, -0.53264086,  0.2325208 ]], dtype=np.float64), np.array([[-0.7635717 , -2.8055864 , -0.04880786],  [ 1.58937301,  0.02750016,  1.15712918]], dtype=np.float64)), np.array([[ 1.30003714,  0.71324424, -0.37491941],  [-0.025874  , -0.07889417,  0.6608069 ]], dtype=np.float64), atol=1e-6)\n",
    "print('Tests passed.')"
   ]
  },
  {
   "cell_type": "markdown",
   "id": "bf65c0d8",
   "metadata": {},
   "source": [
    "### Breadth-first search\n",
    "Complete the following implementation of breadth-first search. Note that the expected output is a list of _actions_.\n",
    "\n",
    "For reference, our solution is **18** lines of code."
   ]
  },
  {
   "cell_type": "code",
   "execution_count": null,
   "id": "9cfbc8bc",
   "metadata": {},
   "outputs": [],
   "source": [
    "def breadth_first_search(initial_state, check_goal_fn, successor_fn, max_expansions=1000):\n",
    "  \"\"\"Finds a plan from initial state to goal using BFS.\n",
    "\n",
    "  Args:\n",
    "    initial_state: Any state representation.\n",
    "    check_goal_fn: A function that takes a state and returns a bool\n",
    "      indicating whether the goal is reached.\n",
    "    successor_fn: A function that takes a state and yields zero or\n",
    "      more (action, next state).\n",
    "    max_expansions: An int bounding the number of times that thhe\n",
    "      successor_fn is called before giving up.\n",
    "\n",
    "  Returns:\n",
    "    plan: A list of actions or None.\n",
    "  \"\"\"\n",
    "  raise NotImplementedError(\"Implement me!\")"
   ]
  },
  {
   "cell_type": "markdown",
   "id": "e22bfb59",
   "metadata": {},
   "source": [
    "Tests"
   ]
  },
  {
   "cell_type": "code",
   "execution_count": null,
   "id": "66125a4e",
   "metadata": {},
   "outputs": [],
   "source": [
    "\n",
    "assert breadth_first_search((0, 0), grid_check_goal_fn, grid_successor_fn) == [\"down\", \"down\", \"down\", \"right\", \"right\", \"up\", \"right\", \"right\", \"down\", \"down\"]\n",
    "print('Tests passed.')"
   ]
  }
 ],
 "metadata": {
  "colab": {
   "collapsed_sections": [],
   "name": "hw00.ipynb",
   "provenance": []
  },
  "kernelspec": {
   "display_name": "Python 3",
   "name": "python3"
  },
  "language_info": {
   "name": "python"
  }
 },
 "nbformat": 4,
 "nbformat_minor": 5
}
